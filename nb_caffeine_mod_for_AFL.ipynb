{
  "nbformat": 4,
  "nbformat_minor": 0,
  "metadata": {
    "colab": {
      "provenance": [],
      "authorship_tag": "ABX9TyPxmI/BzjpWaDbPZ0DC4rSE",
      "include_colab_link": true
    },
    "kernelspec": {
      "name": "python3",
      "display_name": "Python 3"
    },
    "language_info": {
      "name": "python"
    }
  },
  "cells": [
    {
      "cell_type": "markdown",
      "metadata": {
        "id": "view-in-github",
        "colab_type": "text"
      },
      "source": [
        "<a href=\"https://colab.research.google.com/github/JuanAntCB/Caffeine-nb-mod-for-AFL/blob/main/nb_caffeine_mod_for_AFL.ipynb\" target=\"_parent\"><img src=\"https://colab.research.google.com/assets/colab-badge.svg\" alt=\"Open In Colab\"/></a>"
      ]
    },
    {
      "cell_type": "code",
      "source": [
        "!pip install pyrosettacolabsetup\n",
        "import pyrosettacolabsetup; pyrosettacolabsetup.install_pyrosetta()\n",
        "import pyrosetta; pyrosetta.init()\n",
        "from pyrosetta import *\n",
        "import sys\n",
        "import matplotlib\n",
        "init()"
      ],
      "metadata": {
        "colab": {
          "base_uri": "https://localhost:8080/"
        },
        "id": "snzUENFAbaeM",
        "outputId": "67dbec6e-7514-483a-9708-147d7bda8bfe"
      },
      "execution_count": null,
      "outputs": [
        {
          "output_type": "stream",
          "name": "stdout",
          "text": [
            "Collecting pyrosettacolabsetup\n",
            "  Downloading pyrosettacolabsetup-1.0.9-py3-none-any.whl (4.9 kB)\n",
            "Installing collected packages: pyrosettacolabsetup\n",
            "Successfully installed pyrosettacolabsetup-1.0.9\n",
            "Mounted at /content/google_drive\n",
            "\n",
            "Note that USE OF PyRosetta FOR COMMERCIAL PURPOSES REQUIRE PURCHASE OF A LICENSE.\n",
            "See https://github.com/RosettaCommons/rosetta/blob/main/LICENSE.md or email license@uw.edu for details.\n",
            "\n",
            "Looking for compatible PyRosetta wheel file at google-drive/PyRosetta/colab.bin//wheels...\n",
            "Found compatible wheel: /content/google_drive/MyDrive/PyRosetta/colab.bin/wheels//content/google_drive/MyDrive/PyRosetta/colab.bin/wheels/pyrosetta-2024.1+release.00b79147e63-cp310-cp310-linux_x86_64.whl\n",
            "\n",
            "\n",
            "PyRosetta-4 2023 [Rosetta PyRosetta4.MinSizeRel.python310.ubuntu 2024.01+release.00b79147e63be743438188f93a3f069ca75106d6 2023-12-25T16:35:48] retrieved from: http://www.pyrosetta.org\n",
            "(C) Copyright Rosetta Commons Member Institutions. Created in JHU by Sergey Lyskov and PyRosetta Team.\n",
            "core.init: Checking for fconfig files in pwd and ./rosetta/flags\n",
            "core.init: Rosetta version: PyRosetta4.MinSizeRel.python310.ubuntu r366 2024.01+release.00b79147e63 00b79147e63be743438188f93a3f069ca75106d6 http://www.pyrosetta.org 2023-12-25T16:35:48\n",
            "core.init: command: PyRosetta -ex1 -ex2aro -database /usr/local/lib/python3.10/dist-packages/pyrosetta/database\n",
            "basic.random.init_random_generator: 'RNG device' seed mode, using '/dev/urandom', seed=559682615 seed_offset=0 real_seed=559682615\n",
            "basic.random.init_random_generator: RandomGenerator:init: Normal mode, seed=559682615 RG_type=mt19937\n",
            "PyRosetta-4 2023 [Rosetta PyRosetta4.MinSizeRel.python310.ubuntu 2024.01+release.00b79147e63be743438188f93a3f069ca75106d6 2023-12-25T16:35:48] retrieved from: http://www.pyrosetta.org\n",
            "(C) Copyright Rosetta Commons Member Institutions. Created in JHU by Sergey Lyskov and PyRosetta Team.\n",
            "core.init: Checking for fconfig files in pwd and ./rosetta/flags\n",
            "core.init: Rosetta version: PyRosetta4.MinSizeRel.python310.ubuntu r366 2024.01+release.00b79147e63 00b79147e63be743438188f93a3f069ca75106d6 http://www.pyrosetta.org 2023-12-25T16:35:48\n",
            "core.init: command: PyRosetta -ex1 -ex2aro -database /usr/local/lib/python3.10/dist-packages/pyrosetta/database\n",
            "basic.random.init_random_generator: 'RNG device' seed mode, using '/dev/urandom', seed=2056136009 seed_offset=0 real_seed=2056136009\n",
            "basic.random.init_random_generator: RandomGenerator:init: Normal mode, seed=2056136009 RG_type=mt19937\n"
          ]
        }
      ]
    },
    {
      "cell_type": "code",
      "source": [
        "from google.colab import drive\n",
        "import os\n",
        "\n",
        "drive.flush_and_unmount()\n",
        "\n",
        "drive.mount('/content/drive')\n",
        "\n",
        "path = '/content/drive/MyDrive/nb_caffeine_mod_for_AFL/Inputs/aftNb_start.pdb'\n",
        "#path_aft = '/content/drive/MyDrive/nb_caffeine_mod_for_AFL/Inputs/aft.sdf'\n",
        "#path_params = '/content/drive/MyDrive/nb_caffeine_mod_for_AFL/Inputs/AFT.params'\n",
        "drive_path = '/content/drive/MyDrive/nb_caffeine_mod_for_AFL/Inputs'\n"
      ],
      "metadata": {
        "id": "5EC-CS--cFRG",
        "colab": {
          "base_uri": "https://localhost:8080/"
        },
        "outputId": "eeda209b-f069-4d14-bbe5-a3ded5e8dc6f"
      },
      "execution_count": null,
      "outputs": [
        {
          "output_type": "stream",
          "name": "stdout",
          "text": [
            "Mounted at /content/drive\n"
          ]
        }
      ]
    },
    {
      "cell_type": "code",
      "source": [
        "pose = pose_from_pdb(path)"
      ],
      "metadata": {
        "id": "2wK7CNpCciw5",
        "colab": {
          "base_uri": "https://localhost:8080/"
        },
        "outputId": "138c81c5-9304-4b30-d1e5-ba005f554927"
      },
      "execution_count": null,
      "outputs": [
        {
          "output_type": "stream",
          "name": "stdout",
          "text": [
            "core.chemical.GlobalResidueTypeSet: Finished initializing fa_standard residue type set.  Created 985 residue types\n",
            "core.chemical.GlobalResidueTypeSet: Total time to initialize 1.05804 seconds.\n",
            "core.import_pose.import_pose: File '/content/drive/MyDrive/nb_caffeine_mod_for_AFL/Inputs/aftNb_start.pdb' automatically determined to be of type PDB\n",
            "core.chemical.GlobalResidueTypeSet: Loading (but possibly not actually using) 'AFT' from the PDB components dictionary for residue type 'pdb_AFT'\n",
            "core.io.pose_from_sfr.PoseFromSFRBuilder: [ WARNING ] discarding 12 atoms at position 121 in file /content/drive/MyDrive/nb_caffeine_mod_for_AFL/Inputs/aftNb_start.pdb. Best match rsd_type:  pdb_AFT\n",
            "core.conformation.Conformation: [ WARNING ] missing heavyatom:  OXT on residue VAL:CtermProteinFull 238\n"
          ]
        }
      ]
    },
    {
      "cell_type": "code",
      "source": [
        "# Descargar Miniconda para Linux\n",
        "!wget https://repo.anaconda.com/miniconda/Miniconda3-latest-Linux-x86_64.sh -O miniconda.sh\n",
        "\n",
        "# Descargar Miniconda para macOS\n",
        "# !curl -O https://repo.anaconda.com/miniconda/Miniconda3-latest-MacOSX-x86_64.pkg\n",
        "\n",
        "# Descargar Miniconda para Windows\n",
        "# !curl -O https://repo.anaconda.com/miniconda/Miniconda3-latest-Windows-x86_64.exe\n",
        "\n",
        "# Hacer el script ejecutable para Linux\n",
        "!chmod +x miniconda.sh\n",
        "\n",
        "# Ejecutar el instalador de Miniconda para Linux\n",
        "!./miniconda.sh -b -p $HOME/miniconda3\n",
        "\n",
        "# Agregar Miniconda al PATH en Linux\n",
        "import os\n",
        "os.environ[\"PATH\"] += os.pathsep + os.path.join(os.getenv('HOME'), 'miniconda3', 'bin')\n",
        "\n",
        "# Actualizar Miniconda\n",
        "!conda update conda -y\n",
        "\n",
        "# Instalar Open Babel\n",
        "!conda install -c conda-forge openbabel -y\n",
        "\n",
        "# Instalar Jupyter Notebook\n",
        "!conda install -c conda-forge notebook -y\n",
        "\n",
        "# Verificar `conda`\n",
        "!conda --version\n",
        "\n",
        "# Verificar `obabel`\n",
        "!obabel -V\n",
        "\n",
        "# Verificar Jupyter Notebook\n",
        "!jupyter --version\n",
        "\n",
        "# Ejecutar Jupyter Notebook\n",
        "# !jupyter notebook\n",
        "\n",
        "!conda install -c conda-forge openbabel --yes\n",
        "\n",
        "\n",
        "!obabel aft.sdf -O aft_conformers.sdf --confab --conf 10 --original --verbose --ecutoff 5\n",
        "!obabel aft_conformers.sdf -O aft_conformers.pdb\n",
        "\n"
      ],
      "metadata": {
        "id": "-czdtgYRM3dI",
        "colab": {
          "base_uri": "https://localhost:8080/"
        },
        "outputId": "fe8e5dc0-c7e5-4952-d6ed-33391ad69ab2"
      },
      "execution_count": null,
      "outputs": [
        {
          "output_type": "stream",
          "name": "stdout",
          "text": [
            "--2024-07-11 13:02:35--  https://repo.anaconda.com/miniconda/Miniconda3-latest-Linux-x86_64.sh\n",
            "Resolving repo.anaconda.com (repo.anaconda.com)... 104.16.191.158, 104.16.32.241, 2606:4700::6810:20f1, ...\n",
            "Connecting to repo.anaconda.com (repo.anaconda.com)|104.16.191.158|:443... connected.\n",
            "HTTP request sent, awaiting response... 200 OK\n",
            "Length: 146836934 (140M) [application/octet-stream]\n",
            "Saving to: ‘miniconda.sh’\n",
            "\n",
            "miniconda.sh        100%[===================>] 140.03M   196MB/s    in 0.7s    \n",
            "\n",
            "2024-07-11 13:02:36 (196 MB/s) - ‘miniconda.sh’ saved [146836934/146836934]\n",
            "\n",
            "ERROR: File or directory already exists: '/root/miniconda3'\n",
            "If you want to update an existing installation, use the -u option.\n",
            "Error while loading conda entry point: conda-libmamba-solver (libarchive.so.19: cannot open shared object file: No such file or directory)\n",
            "\n",
            "CondaValueError: You have chosen a non-default solver backend (libmamba) but it was not recognized. Choose one of: classic\n",
            "\n",
            "Error while loading conda entry point: conda-libmamba-solver (libarchive.so.19: cannot open shared object file: No such file or directory)\n",
            "\n",
            "CondaValueError: You have chosen a non-default solver backend (libmamba) but it was not recognized. Choose one of: classic\n",
            "\n",
            "Error while loading conda entry point: conda-libmamba-solver (libarchive.so.19: cannot open shared object file: No such file or directory)\n",
            "\n",
            "CondaValueError: You have chosen a non-default solver backend (libmamba) but it was not recognized. Choose one of: classic\n",
            "\n",
            "Error while loading conda entry point: conda-libmamba-solver (libarchive.so.19: cannot open shared object file: No such file or directory)\n",
            "conda 24.5.0\n",
            "Open Babel 3.1.0 -- Nov 30 2023 -- 20:44:30\n",
            "Selected Jupyter core packages...\n",
            "IPython          : 7.34.0\n",
            "ipykernel        : 5.5.6\n",
            "ipywidgets       : 7.7.1\n",
            "jupyter_client   : 6.1.12\n",
            "jupyter_core     : 5.7.2\n",
            "jupyter_server   : 1.24.0\n",
            "jupyterlab       : not installed\n",
            "nbclient         : 0.10.0\n",
            "nbconvert        : 6.5.4\n",
            "nbformat         : 5.10.4\n",
            "notebook         : 6.5.5\n",
            "qtconsole        : not installed\n",
            "traitlets        : 5.7.1\n",
            "Error while loading conda entry point: conda-libmamba-solver (libarchive.so.19: cannot open shared object file: No such file or directory)\n",
            "\n",
            "CondaValueError: You have chosen a non-default solver backend (libmamba) but it was not recognized. Choose one of: classic\n",
            "\n",
            "==============================\n",
            "*** Open Babel Error  in OpenAndSetFormat\n",
            "  Cannot open aft.sdf\n",
            "0 molecules converted\n",
            "0 molecules converted\n"
          ]
        }
      ]
    }
  ]
}