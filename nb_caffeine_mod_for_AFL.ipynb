{
  "nbformat": 4,
  "nbformat_minor": 0,
  "metadata": {
    "colab": {
      "provenance": [],
      "authorship_tag": "ABX9TyMndB80FUvLOcOk6xEL3hfs",
      "include_colab_link": true
    },
    "kernelspec": {
      "name": "python3",
      "display_name": "Python 3"
    },
    "language_info": {
      "name": "python"
    }
  },
  "cells": [
    {
      "cell_type": "markdown",
      "metadata": {
        "id": "view-in-github",
        "colab_type": "text"
      },
      "source": [
        "<a href=\"https://colab.research.google.com/github/JuanAntCB/Caffeine-nb-mod-for-AFL/blob/main/nb_caffeine_mod_for_AFL.ipynb\" target=\"_parent\"><img src=\"https://colab.research.google.com/assets/colab-badge.svg\" alt=\"Open In Colab\"/></a>"
      ]
    },
    {
      "cell_type": "code",
      "source": [
        "!pip install pyrosettacolabsetup\n",
        "import pyrosettacolabsetup; pyrosettacolabsetup.install_pyrosetta()\n",
        "import pyrosetta; pyrosetta.init()\n",
        "from pyrosetta import *\n",
        "import sys\n",
        "import matplotlib\n",
        "init()"
      ],
      "metadata": {
        "colab": {
          "base_uri": "https://localhost:8080/"
        },
        "id": "snzUENFAbaeM",
        "outputId": "60a2d81c-2597-4bf7-a718-8877d648c564"
      },
      "execution_count": 1,
      "outputs": [
        {
          "output_type": "stream",
          "name": "stdout",
          "text": [
            "Collecting pyrosettacolabsetup\n",
            "  Downloading pyrosettacolabsetup-1.0.9-py3-none-any.whl.metadata (294 bytes)\n",
            "Downloading pyrosettacolabsetup-1.0.9-py3-none-any.whl (4.9 kB)\n",
            "Installing collected packages: pyrosettacolabsetup\n",
            "Successfully installed pyrosettacolabsetup-1.0.9\n",
            "Mounted at /content/google_drive\n",
            "\n",
            "Note that USE OF PyRosetta FOR COMMERCIAL PURPOSES REQUIRE PURCHASE OF A LICENSE.\n",
            "See https://github.com/RosettaCommons/rosetta/blob/main/LICENSE.md or email license@uw.edu for details.\n",
            "\n",
            "Looking for compatible PyRosetta wheel file at google-drive/PyRosetta/colab.bin//wheels...\n",
            "Found compatible wheel: /content/google_drive/MyDrive/PyRosetta/colab.bin/wheels//content/google_drive/MyDrive/PyRosetta/colab.bin/wheels/pyrosetta-2024.1+release.00b79147e63-cp310-cp310-linux_x86_64.whl\n",
            "\n",
            "\n",
            "PyRosetta-4 2023 [Rosetta PyRosetta4.MinSizeRel.python310.ubuntu 2024.01+release.00b79147e63be743438188f93a3f069ca75106d6 2023-12-25T16:35:48] retrieved from: http://www.pyrosetta.org\n",
            "(C) Copyright Rosetta Commons Member Institutions. Created in JHU by Sergey Lyskov and PyRosetta Team.\n",
            "core.init: Checking for fconfig files in pwd and ./rosetta/flags\n",
            "core.init: Rosetta version: PyRosetta4.MinSizeRel.python310.ubuntu r366 2024.01+release.00b79147e63 00b79147e63be743438188f93a3f069ca75106d6 http://www.pyrosetta.org 2023-12-25T16:35:48\n",
            "core.init: command: PyRosetta -ex1 -ex2aro -database /usr/local/lib/python3.10/dist-packages/pyrosetta/database\n",
            "basic.random.init_random_generator: 'RNG device' seed mode, using '/dev/urandom', seed=59875619 seed_offset=0 real_seed=59875619\n",
            "basic.random.init_random_generator: RandomGenerator:init: Normal mode, seed=59875619 RG_type=mt19937\n",
            "PyRosetta-4 2023 [Rosetta PyRosetta4.MinSizeRel.python310.ubuntu 2024.01+release.00b79147e63be743438188f93a3f069ca75106d6 2023-12-25T16:35:48] retrieved from: http://www.pyrosetta.org\n",
            "(C) Copyright Rosetta Commons Member Institutions. Created in JHU by Sergey Lyskov and PyRosetta Team.\n",
            "core.init: Checking for fconfig files in pwd and ./rosetta/flags\n",
            "core.init: Rosetta version: PyRosetta4.MinSizeRel.python310.ubuntu r366 2024.01+release.00b79147e63 00b79147e63be743438188f93a3f069ca75106d6 http://www.pyrosetta.org 2023-12-25T16:35:48\n",
            "core.init: command: PyRosetta -ex1 -ex2aro -database /usr/local/lib/python3.10/dist-packages/pyrosetta/database\n",
            "basic.random.init_random_generator: 'RNG device' seed mode, using '/dev/urandom', seed=1750074565 seed_offset=0 real_seed=1750074565\n",
            "basic.random.init_random_generator: RandomGenerator:init: Normal mode, seed=1750074565 RG_type=mt19937\n"
          ]
        }
      ]
    },
    {
      "cell_type": "code",
      "source": [
        "from google.colab import drive\n",
        "import os\n",
        "\n",
        "drive.flush_and_unmount()\n",
        "\n",
        "drive.mount('/content/drive')\n",
        "\n",
        "path = '/content/drive/MyDrive/nb_caffeine_mod_for_AFL/Inputs/aftNb_start.pdb'\n",
        "path_aft = '/content/drive/MyDrive/nb_caffeine_mod_for_AFL/Inputs/aft.sdf'\n",
        "path_params = '/content/drive/MyDrive/nb_caffeine_mod_for_AFL/Inputs/AFT.params'\n",
        "drive_path = '/content/drive/MyDrive/nb_caffeine_mod_for_AFL/Inputs'\n"
      ],
      "metadata": {
        "id": "5EC-CS--cFRG",
        "colab": {
          "base_uri": "https://localhost:8080/"
        },
        "outputId": "26f2c91e-da33-48ba-840c-4d0283378439"
      },
      "execution_count": 2,
      "outputs": [
        {
          "output_type": "stream",
          "name": "stdout",
          "text": [
            "Mounted at /content/drive\n"
          ]
        }
      ]
    },
    {
      "cell_type": "code",
      "source": [
        "pose = pose_from_pdb(path)\n",
        "\n"
      ],
      "metadata": {
        "id": "2wK7CNpCciw5",
        "colab": {
          "base_uri": "https://localhost:8080/"
        },
        "outputId": "01faa731-db52-47e5-81bf-315c42f38c52"
      },
      "execution_count": 3,
      "outputs": [
        {
          "output_type": "stream",
          "name": "stdout",
          "text": [
            "core.chemical.GlobalResidueTypeSet: Finished initializing fa_standard residue type set.  Created 985 residue types\n",
            "core.chemical.GlobalResidueTypeSet: Total time to initialize 1.39876 seconds.\n",
            "core.import_pose.import_pose: File '/content/drive/MyDrive/nb_caffeine_mod_for_AFL/Inputs/aftNb_start.pdb' automatically determined to be of type PDB\n",
            "core.chemical.GlobalResidueTypeSet: Loading (but possibly not actually using) 'AFT' from the PDB components dictionary for residue type 'pdb_AFT'\n",
            "core.io.pose_from_sfr.PoseFromSFRBuilder: [ WARNING ] discarding 12 atoms at position 121 in file /content/drive/MyDrive/nb_caffeine_mod_for_AFL/Inputs/aftNb_start.pdb. Best match rsd_type:  pdb_AFT\n",
            "core.conformation.Conformation: [ WARNING ] missing heavyatom:  OXT on residue VAL:CtermProteinFull 238\n"
          ]
        }
      ]
    },
    {
      "cell_type": "code",
      "source": [
        "ligand_parameters = path_params\n",
        "flags = f\"\"\"\n",
        "-extra_res_fa {ligand_parameters}\n",
        "-s path\n",
        "-ex1\n",
        "-ex2\n",
        "-no_optH false\n",
        "-ignore_ligand_chi true\n",
        "-overwrite\n",
        "-restore_pre_talaris_2013_behavior true\n",
        "\"\"\"\n",
        "pyrosetta.distributed.init(flags)"
      ],
      "metadata": {
        "id": "w4cfX5B64Wma"
      },
      "execution_count": 4,
      "outputs": []
    },
    {
      "cell_type": "code",
      "source": [
        "pose = pyrosetta.io.pose_from_file(filename = path)"
      ],
      "metadata": {
        "colab": {
          "base_uri": "https://localhost:8080/"
        },
        "id": "ggmyC_G77_hc",
        "outputId": "55475e46-14e2-4cde-904a-cececff3d04c"
      },
      "execution_count": 5,
      "outputs": [
        {
          "output_type": "stream",
          "name": "stdout",
          "text": [
            "core.import_pose.import_pose: File '/content/drive/MyDrive/nb_caffeine_mod_for_AFL/Inputs/aftNb_start.pdb' automatically determined to be of type PDB\n",
            "core.io.pose_from_sfr.PoseFromSFRBuilder: [ WARNING ] discarding 12 atoms at position 121 in file /content/drive/MyDrive/nb_caffeine_mod_for_AFL/Inputs/aftNb_start.pdb. Best match rsd_type:  pdb_AFT\n",
            "core.conformation.Conformation: [ WARNING ] missing heavyatom:  OXT on residue VAL:CtermProteinFull 238\n"
          ]
        }
      ]
    },
    {
      "cell_type": "code",
      "source": [
        "xml = pyrosetta.rosetta.protocols.rosetta_scripts.XmlObjects.create_from_string(\"\"\"\n",
        "<ROSETTASCRIPTS>\n",
        "\n",
        "    <SCOREFXNS>\n",
        "        <ScoreFunction name=\"ligand_soft_rep\" weights=\"ligand_soft_rep\"/>\n",
        "        <ScoreFunction name=\"hard_rep\" weights=\"ligand\"/>\n",
        "    </SCOREFXNS>\n",
        "\n",
        "    <LIGAND_AREAS>\n",
        "        <LigandArea name=\"inhibitor_dock_sc\" chain=\"A\" cutoff=\"6.0\" add_nbr_radius=\"true\" all_atom_mode=\"false\"/>\n",
        "        <LigandArea name=\"inhibitor_final_sc\" chain=\"A\" cutoff=\"6.0\" add_nbr_radius=\"true\" all_atom_mode=\"false\"/>\n",
        "        <LigandArea name=\"inhibitor_final_bb\" chain=\"A\" cutoff=\"7.0\" add_nbr_radius=\"false\" all_atom_mode=\"true\" Calpha_restraints=\"0.3\"/>\n",
        "\n",
        "        <LigandArea name=\"inhibitor_dock_sc\" chain=\"B\" cutoff=\"6.0\" add_nbr_radius=\"true\" all_atom_mode=\"false\"/>\n",
        "        <LigandArea name=\"inhibitor_final_sc\" chain=\"B\" cutoff=\"6.0\" add_nbr_radius=\"true\" all_atom_mode=\"false\"/>\n",
        "        <LigandArea name=\"inhibitor_final_bb\" chain=\"B\" cutoff=\"7.0\" add_nbr_radius=\"false\" all_atom_mode=\"true\" Calpha_restraints=\"0.3\"/>\n",
        "    </LIGAND_AREAS>\n",
        "\n",
        "    <INTERFACE_BUILDERS>\n",
        "        <InterfaceBuilder name=\"side_chain_for_docking\" ligand_areas=\"inhibitor_dock_sc\"/>\n",
        "        <InterfaceBuilder name=\"side_chain_for_final\" ligand_areas=\"inhibitor_final_sc\"/>\n",
        "        <InterfaceBuilder name=\"backbone\" ligand_areas=\"inhibitor_final_bb\" extension_window=\"3\"/>\n",
        "    </INTERFACE_BUILDERS>\n",
        "\n",
        "    <MOVEMAP_BUILDERS>\n",
        "        <MoveMapBuilder name=\"docking\" sc_interface=\"side_chain_for_docking\" minimize_water=\"false\"/>\n",
        "        <MoveMapBuilder name=\"final\" sc_interface=\"side_chain_for_final\" bb_interface=\"backbone\" minimize_water=\"false\"/>\n",
        "    </MOVEMAP_BUILDERS>\n",
        "\n",
        "    <SCORINGGRIDS width=\"15\">\n",
        "        <ClassicGrid grid_name=\"classic_A\" weight=\"1.0\"/>\n",
        "        <ClassicGrid grid_name=\"classic_B\" weight=\"1.0\"/>\n",
        "    </SCORINGGRIDS>\n",
        "\n",
        "    <MOVERS>\n",
        "        <Transform name=\"transform_A\" chain=\"A\" box_size=\"7.0\" move_distance=\"0.2\" angle=\"20\" cycles=\"30\" repeats=\"1\" temperature=\"5\"/>\n",
        "        <Transform name=\"transform_B\" chain=\"B\" box_size=\"7.0\" move_distance=\"0.2\" angle=\"20\" cycles=\"30\" repeats=\"1\" temperature=\"5\"/>\n",
        "        <HighResDocker name=\"high_res_docker\" cycles=\"6\" repack_every_Nth=\"3\" scorefxn=\"ligand_soft_rep\" movemap_builder=\"docking\"/>\n",
        "        <FinalMinimizer name=\"final\" scorefxn=\"hard_rep\" movemap_builder=\"final\"/>\n",
        "        <InterfaceScoreCalculator name=\"add_scores\" chains=\"A\" scorefxn=\"hard_rep\" native='/content/drive/MyDrive/nb_caffeine_mod_for_AFL/Inputs/aftNb_start.pdb'/>\n",
        "    </MOVERS>\n",
        "\n",
        "    <PROTOCOLS>\n",
        "        <Add mover_name=\"transform_A\"/>\n",
        "        <Add mover_name=\"transform_B\"/>\n",
        "        <Add mover_name=\"high_res_docker\"/>\n",
        "        <Add mover_name=\"final\"/>\n",
        "        <Add mover_name=\"add_scores\"/>\n",
        "    </PROTOCOLS>\n",
        "\n",
        "</ROSETTASCRIPTS>\n",
        "\n",
        "\"\"\").get_mover(\"ParsedProtocol\")"
      ],
      "metadata": {
        "colab": {
          "base_uri": "https://localhost:8080/",
          "height": 1000
        },
        "id": "TfHzdmEM8p7k",
        "outputId": "1aaf7e32-e923-4fab-9ab4-91ffbe6d3590"
      },
      "execution_count": 18,
      "outputs": [
        {
          "output_type": "stream",
          "name": "stdout",
          "text": [
            "protocols.rosetta_scripts.RosettaScriptsParser: Validating input script...\n",
            "protocols.rosetta_scripts.RosettaScriptsParser: ...done\n",
            "protocols.rosetta_scripts.RosettaScriptsParser: Parsed script:\n",
            "<ROSETTASCRIPTS>\n",
            "\t<SCOREFXNS>\n",
            "\t\t<ScoreFunction name=\"ligand_soft_rep\" weights=\"ligand_soft_rep\"/>\n",
            "\t\t<ScoreFunction name=\"hard_rep\" weights=\"ligand\"/>\n",
            "\t</SCOREFXNS>\n",
            "\t<LIGAND_AREAS>\n",
            "\t\t<LigandArea add_nbr_radius=\"true\" all_atom_mode=\"false\" chain=\"A\" cutoff=\"6.0\" name=\"inhibitor_dock_sc\"/>\n",
            "\t\t<LigandArea add_nbr_radius=\"true\" all_atom_mode=\"false\" chain=\"A\" cutoff=\"6.0\" name=\"inhibitor_final_sc\"/>\n",
            "\t\t<LigandArea Calpha_restraints=\"0.3\" add_nbr_radius=\"false\" all_atom_mode=\"true\" chain=\"A\" cutoff=\"7.0\" name=\"inhibitor_final_bb\"/>\n",
            "\t\t<LigandArea add_nbr_radius=\"true\" all_atom_mode=\"false\" chain=\"B\" cutoff=\"6.0\" name=\"inhibitor_dock_sc\"/>\n",
            "\t\t<LigandArea add_nbr_radius=\"true\" all_atom_mode=\"false\" chain=\"B\" cutoff=\"6.0\" name=\"inhibitor_final_sc\"/>\n",
            "\t\t<LigandArea Calpha_restraints=\"0.3\" add_nbr_radius=\"false\" all_atom_mode=\"true\" chain=\"B\" cutoff=\"7.0\" name=\"inhibitor_final_bb\"/>\n",
            "\t</LIGAND_AREAS>\n",
            "\t<INTERFACE_BUILDERS>\n",
            "\t\t<InterfaceBuilder ligand_areas=\"inhibitor_dock_sc\" name=\"side_chain_for_docking\"/>\n",
            "\t\t<InterfaceBuilder ligand_areas=\"inhibitor_final_sc\" name=\"side_chain_for_final\"/>\n",
            "\t\t<InterfaceBuilder extension_window=\"3\" ligand_areas=\"inhibitor_final_bb\" name=\"backbone\"/>\n",
            "\t</INTERFACE_BUILDERS>\n",
            "\t<MOVEMAP_BUILDERS>\n",
            "\t\t<MoveMapBuilder minimize_water=\"false\" name=\"docking\" sc_interface=\"side_chain_for_docking\"/>\n",
            "\t\t<MoveMapBuilder bb_interface=\"backbone\" minimize_water=\"false\" name=\"final\" sc_interface=\"side_chain_for_final\"/>\n",
            "\t</MOVEMAP_BUILDERS>\n",
            "\t<SCORINGGRIDS width=\"15\">\n",
            "\t\t<ClassicGrid grid_name=\"classic_A\" weight=\"1.0\"/>\n",
            "\t\t<ClassicGrid grid_name=\"classic_B\" weight=\"1.0\"/>\n",
            "\t</SCORINGGRIDS>\n",
            "\t<MOVERS>\n",
            "\t\t<Transform angle=\"20\" box_size=\"7.0\" chain=\"A\" cycles=\"30\" move_distance=\"0.2\" name=\"transform_A\" repeats=\"1\" temperature=\"5\"/>\n",
            "\t\t<Transform angle=\"20\" box_size=\"7.0\" chain=\"B\" cycles=\"30\" move_distance=\"0.2\" name=\"transform_B\" repeats=\"1\" temperature=\"5\"/>\n",
            "\t\t<HighResDocker cycles=\"6\" movemap_builder=\"docking\" name=\"high_res_docker\" repack_every_Nth=\"3\" scorefxn=\"ligand_soft_rep\"/>\n",
            "\t\t<FinalMinimizer movemap_builder=\"final\" name=\"final\" scorefxn=\"hard_rep\"/>\n",
            "\t\t<InterfaceScoreCalculator chains=\"A\" name=\"add_scores\" native=\"/content/drive/MyDrive/nb_caffeine_mod_for_AFL/Inputs/aftNb_start.pdb\" scorefxn=\"hard_rep\"/>\n",
            "\t</MOVERS>\n",
            "\t<PROTOCOLS>\n",
            "\t\t<Add mover_name=\"transform_A\"/>\n",
            "\t\t<Add mover_name=\"transform_B\"/>\n",
            "\t\t<Add mover_name=\"high_res_docker\"/>\n",
            "\t\t<Add mover_name=\"final\"/>\n",
            "\t\t<Add mover_name=\"add_scores\"/>\n",
            "\t</PROTOCOLS>\n",
            "</ROSETTASCRIPTS>\n",
            "core.scoring.ScoreFunctionFactory: SCOREFUNCTION: ref2015\n",
            "protocols.jd2.parser.ScoreFunctionLoader: defined score function \"ligand_soft_rep\" with weights \"ligand_soft_rep\"\n",
            "protocols.jd2.parser.ScoreFunctionLoader: defined score function \"hard_rep\" with weights \"ligand\"\n",
            "protocols.ligand_docking.LigandDockingLoaders: WARNING WARNING ligand_area of name \"inhibitor_dock_sc\" already exists. Skipping\n",
            "<LigandArea add_nbr_radius=\"true\" all_atom_mode=\"false\" chain=\"B\" cutoff=\"6.0\" name=\"inhibitor_dock_sc\"/>\n",
            "protocols.ligand_docking.LigandDockingLoaders: WARNING WARNING ligand_area of name \"inhibitor_final_sc\" already exists. Skipping\n",
            "<LigandArea add_nbr_radius=\"true\" all_atom_mode=\"false\" chain=\"B\" cutoff=\"6.0\" name=\"inhibitor_final_sc\"/>\n",
            "protocols.ligand_docking.LigandDockingLoaders: WARNING WARNING ligand_area of name \"inhibitor_final_bb\" already exists. Skipping\n",
            "<LigandArea Calpha_restraints=\"0.3\" add_nbr_radius=\"false\" all_atom_mode=\"true\" chain=\"B\" cutoff=\"7.0\" name=\"inhibitor_final_bb\"/>\n",
            "protocols.rosetta_scripts.RosettaScriptsParser: Defined mover named \"transform_A\" of type Transform\n",
            "protocols.rosetta_scripts.RosettaScriptsParser: Defined mover named \"transform_B\" of type Transform\n",
            "protocols.ligand_docking.ligand_options.Protocol: Initializing options:\n",
            "protocols.ligand_docking.ligand_options.Protocol: allow_minimization_: 1\n",
            "protocols.ligand_docking.ligand_options.Protocol: allow_repacking_: 1\n",
            "protocols.ligand_docking.ligand_options.Protocol: all_residues_: 0\n",
            "protocols.rosetta_scripts.RosettaScriptsParser: Defined mover named \"high_res_docker\" of type HighResDocker\n",
            "protocols.rosetta_scripts.RosettaScriptsParser: Defined mover named \"final\" of type FinalMinimizer\n",
            "core.import_pose.import_pose: File '/content/drive/MyDrive/nb_caffeine_mod_for_AFL/Inputs/aftNb_start.pdb' automatically determined to be of type PDB\n",
            "core.io.pose_from_sfr.PoseFromSFRBuilder: [ WARNING ] discarding 12 atoms at position 121 in file /content/drive/MyDrive/nb_caffeine_mod_for_AFL/Inputs/aftNb_start.pdb. Best match rsd_type:  pdb_AFT\n",
            "core.conformation.Conformation: [ WARNING ] missing heavyatom:  OXT on residue VAL:CtermProteinFull 238\n",
            "protocols.rosetta_scripts.RosettaScriptsParser: Defined mover named \"add_scores\" of type InterfaceScoreCalculator\n",
            "protocols.rosetta_scripts.ParsedProtocol: ParsedProtocol mover with the following settings\n",
            "protocols.rosetta_scripts.ParsedProtocol: Added mover \"transform_A\"\n",
            "protocols.rosetta_scripts.ParsedProtocol: Added mover \"transform_B\"\n",
            "protocols.rosetta_scripts.ParsedProtocol: Added mover \"high_res_docker\"\n",
            "protocols.ligand_docking.ligand_options.Protocol: Initializing options:\n",
            "protocols.ligand_docking.ligand_options.Protocol: allow_minimization_: 1\n",
            "protocols.ligand_docking.ligand_options.Protocol: allow_repacking_: 1\n",
            "protocols.ligand_docking.ligand_options.Protocol: all_residues_: 0\n",
            "protocols.rosetta_scripts.ParsedProtocol: Added mover \"final\"\n",
            "protocols.rosetta_scripts.ParsedProtocol: Added mover \"add_scores\"\n",
            "protocols.rosetta_scripts.XmlObjects: \n",
            "\n",
            "File: /home/benchmark/rosetta/source/src/utility/tag/Tag.cc:232\n",
            "[ ERROR ] UtilityExitException\n",
            "ERROR: 'add_nbr_radius' is not a valid option for LigandArea\n",
            "protocols.rosetta_scripts.XmlObjects: Error creating parsed protocol.\n"
          ]
        },
        {
          "output_type": "error",
          "ename": "RuntimeError",
          "evalue": "\n\nFile: /home/benchmark/rosetta/source/src/utility/tag/Tag.cc:232\n[ ERROR ] UtilityExitException\nERROR: 'add_nbr_radius' is not a valid option for LigandArea\n\n",
          "traceback": [
            "\u001b[0;31m---------------------------------------------------------------------------\u001b[0m",
            "\u001b[0;31mRuntimeError\u001b[0m                              Traceback (most recent call last)",
            "\u001b[0;32m<ipython-input-18-a11ec2ac72db>\u001b[0m in \u001b[0;36m<cell line: 1>\u001b[0;34m()\u001b[0m\n\u001b[0;32m----> 1\u001b[0;31m xml = pyrosetta.rosetta.protocols.rosetta_scripts.XmlObjects.create_from_string(\"\"\"\n\u001b[0m\u001b[1;32m      2\u001b[0m \u001b[0;34m<\u001b[0m\u001b[0mROSETTASCRIPTS\u001b[0m\u001b[0;34m>\u001b[0m\u001b[0;34m\u001b[0m\u001b[0;34m\u001b[0m\u001b[0m\n\u001b[1;32m      3\u001b[0m \u001b[0;34m\u001b[0m\u001b[0m\n\u001b[1;32m      4\u001b[0m     \u001b[0;34m<\u001b[0m\u001b[0mSCOREFXNS\u001b[0m\u001b[0;34m>\u001b[0m\u001b[0;34m\u001b[0m\u001b[0;34m\u001b[0m\u001b[0m\n\u001b[1;32m      5\u001b[0m         \u001b[0;34m<\u001b[0m\u001b[0mScoreFunction\u001b[0m \u001b[0mname\u001b[0m\u001b[0;34m=\u001b[0m\u001b[0;34m\"ligand_soft_rep\"\u001b[0m \u001b[0mweights\u001b[0m\u001b[0;34m=\u001b[0m\u001b[0;34m\"ligand_soft_rep\"\u001b[0m\u001b[0;34m/\u001b[0m\u001b[0;34m>\u001b[0m\u001b[0;34m\u001b[0m\u001b[0;34m\u001b[0m\u001b[0m\n",
            "\u001b[0;31mRuntimeError\u001b[0m: \n\nFile: /home/benchmark/rosetta/source/src/utility/tag/Tag.cc:232\n[ ERROR ] UtilityExitException\nERROR: 'add_nbr_radius' is not a valid option for LigandArea\n\n"
          ]
        }
      ]
    },
    {
      "cell_type": "code",
      "source": [
        "scorefxn = pyrosetta.create_score_function(\"ligand_soft_rep\")\n",
        "if not os.getenv(\"DEBUG\"):\n",
        "    working_dir = os.getcwd()\n",
        "    output_dir = \"output\"\n",
        "    if not os.path.exists(output_dir):\n",
        "        os.mkdir(output_dir)\n",
        "    os.chdir(output_dir)\n",
        "\n",
        "\n",
        "    jd = pyrosetta.toolbox.py_jobdistributor.PyJobDistributor(pdb_name=\"aftNb_start.pdb\", nstruct=5, scorefxn=scorefxn) #Output name, number of structures, scorefunction used\n",
        "    jd.native_pose = pose\n",
        "    #df = pd.DataFrame()\n",
        "    while not jd.job_complete:\n",
        "        test_pose = pose.clone()\n",
        "        xml.apply(test_pose)\n",
        "        jd.output_decoy(test_pose)\n",
        "    os.chdir(working_dir)\n",
        "\n"
      ],
      "metadata": {
        "colab": {
          "base_uri": "https://localhost:8080/",
          "height": 384
        },
        "id": "dnUBBBL1OjPn",
        "outputId": "2530956c-2c12-41c4-c9f8-bfd7cddcbe08"
      },
      "execution_count": null,
      "outputs": [
        {
          "output_type": "stream",
          "name": "stdout",
          "text": [
            "Corrections were made and saved to /content/drive/MyDrive/nb_caffeine_mod_for_AFL/Inputs/aftNb_start_corrected.pdb\n",
            "Working on decoy: aftNb_start_corrected.pdb_4.pdb\n",
            "protocols.rosetta_scripts.ParsedProtocol: =======================BEGIN MOVER Transform - transform=======================\n",
            "protocols.rosetta_scripts.ParsedProtocol: [ ERROR ] Exception while processing protocol: \n",
            "\n",
            "File: /home/benchmark/rosetta/source/src/core/pose/chains_util.cc:455\n",
            "chain_id A represents more than one chain!\n"
          ]
        },
        {
          "output_type": "error",
          "ename": "RuntimeError",
          "evalue": "\n\nFile: /home/benchmark/rosetta/source/src/core/pose/chains_util.cc:455\nchain_id A represents more than one chain!",
          "traceback": [
            "\u001b[0;31m---------------------------------------------------------------------------\u001b[0m",
            "\u001b[0;31mRuntimeError\u001b[0m                              Traceback (most recent call last)",
            "\u001b[0;32m<ipython-input-14-52740ce9150f>\u001b[0m in \u001b[0;36m<cell line: 38>\u001b[0;34m()\u001b[0m\n\u001b[1;32m     49\u001b[0m     \u001b[0;32mwhile\u001b[0m \u001b[0;32mnot\u001b[0m \u001b[0mjd\u001b[0m\u001b[0;34m.\u001b[0m\u001b[0mjob_complete\u001b[0m\u001b[0;34m:\u001b[0m\u001b[0;34m\u001b[0m\u001b[0;34m\u001b[0m\u001b[0m\n\u001b[1;32m     50\u001b[0m         \u001b[0mtest_pose\u001b[0m \u001b[0;34m=\u001b[0m \u001b[0mpose\u001b[0m\u001b[0;34m.\u001b[0m\u001b[0mclone\u001b[0m\u001b[0;34m(\u001b[0m\u001b[0;34m)\u001b[0m\u001b[0;34m\u001b[0m\u001b[0;34m\u001b[0m\u001b[0m\n\u001b[0;32m---> 51\u001b[0;31m         \u001b[0mxml\u001b[0m\u001b[0;34m.\u001b[0m\u001b[0mapply\u001b[0m\u001b[0;34m(\u001b[0m\u001b[0mtest_pose\u001b[0m\u001b[0;34m)\u001b[0m\u001b[0;34m\u001b[0m\u001b[0;34m\u001b[0m\u001b[0m\n\u001b[0m\u001b[1;32m     52\u001b[0m         \u001b[0mjd\u001b[0m\u001b[0;34m.\u001b[0m\u001b[0moutput_decoy\u001b[0m\u001b[0;34m(\u001b[0m\u001b[0mtest_pose\u001b[0m\u001b[0;34m)\u001b[0m\u001b[0;34m\u001b[0m\u001b[0;34m\u001b[0m\u001b[0m\n\u001b[1;32m     53\u001b[0m     \u001b[0mos\u001b[0m\u001b[0;34m.\u001b[0m\u001b[0mchdir\u001b[0m\u001b[0;34m(\u001b[0m\u001b[0mworking_dir\u001b[0m\u001b[0;34m)\u001b[0m\u001b[0;34m\u001b[0m\u001b[0;34m\u001b[0m\u001b[0m\n",
            "\u001b[0;31mRuntimeError\u001b[0m: \n\nFile: /home/benchmark/rosetta/source/src/core/pose/chains_util.cc:455\nchain_id A represents more than one chain!"
          ]
        }
      ]
    }
  ]
}