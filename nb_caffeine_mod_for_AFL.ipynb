{
  "nbformat": 4,
  "nbformat_minor": 0,
  "metadata": {
    "colab": {
      "provenance": [],
      "authorship_tag": "ABX9TyPPu7m3y+SUNqBoWpX6WxeU",
      "include_colab_link": true
    },
    "kernelspec": {
      "name": "python3",
      "display_name": "Python 3"
    },
    "language_info": {
      "name": "python"
    }
  },
  "cells": [
    {
      "cell_type": "markdown",
      "metadata": {
        "id": "view-in-github",
        "colab_type": "text"
      },
      "source": [
        "<a href=\"https://colab.research.google.com/github/JuanAntCB/Caffeine-nb-mod-for-AFL/blob/main/nb_caffeine_mod_for_AFL.ipynb\" target=\"_parent\"><img src=\"https://colab.research.google.com/assets/colab-badge.svg\" alt=\"Open In Colab\"/></a>"
      ]
    },
    {
      "cell_type": "code",
      "source": [
        "!pip install pyrosettacolabsetup\n",
        "import pyrosettacolabsetup; pyrosettacolabsetup.install_pyrosetta()\n",
        "import pyrosetta; pyrosetta.init()\n",
        "from pyrosetta import *\n",
        "import sys\n",
        "import matplotlib\n",
        "import pandas as pd\n",
        "init()"
      ],
      "metadata": {
        "colab": {
          "base_uri": "https://localhost:8080/"
        },
        "id": "snzUENFAbaeM",
        "outputId": "8f732ee4-d470-48e1-dfaa-282448265a1c"
      },
      "execution_count": 13,
      "outputs": [
        {
          "output_type": "stream",
          "name": "stdout",
          "text": [
            "Requirement already satisfied: pyrosettacolabsetup in /usr/local/lib/python3.10/dist-packages (1.0.9)\n",
            "PyRosetta-4 2023 [Rosetta PyRosetta4.MinSizeRel.python310.ubuntu 2024.01+release.00b79147e63be743438188f93a3f069ca75106d6 2023-12-25T16:35:48] retrieved from: http://www.pyrosetta.org\n",
            "(C) Copyright Rosetta Commons Member Institutions. Created in JHU by Sergey Lyskov and PyRosetta Team.\n",
            "core.init: Checking for fconfig files in pwd and ./rosetta/flags\n",
            "core.init: Rosetta version: PyRosetta4.MinSizeRel.python310.ubuntu r366 2024.01+release.00b79147e63 00b79147e63be743438188f93a3f069ca75106d6 http://www.pyrosetta.org 2023-12-25T16:35:48\n",
            "core.init: command: PyRosetta -ex1 -ex2aro -database /usr/local/lib/python3.10/dist-packages/pyrosetta/database\n",
            "basic.random.init_random_generator: 'RNG device' seed mode, using '/dev/urandom', seed=-1125353067 seed_offset=0 real_seed=-1125353067\n",
            "basic.random.init_random_generator: RandomGenerator:init: Normal mode, seed=-1125353067 RG_type=mt19937\n",
            "PyRosetta-4 2023 [Rosetta PyRosetta4.MinSizeRel.python310.ubuntu 2024.01+release.00b79147e63be743438188f93a3f069ca75106d6 2023-12-25T16:35:48] retrieved from: http://www.pyrosetta.org\n",
            "(C) Copyright Rosetta Commons Member Institutions. Created in JHU by Sergey Lyskov and PyRosetta Team.\n",
            "core.init: Checking for fconfig files in pwd and ./rosetta/flags\n",
            "core.init: Rosetta version: PyRosetta4.MinSizeRel.python310.ubuntu r366 2024.01+release.00b79147e63 00b79147e63be743438188f93a3f069ca75106d6 http://www.pyrosetta.org 2023-12-25T16:35:48\n",
            "core.init: command: PyRosetta -ex1 -ex2aro -database /usr/local/lib/python3.10/dist-packages/pyrosetta/database\n",
            "basic.random.init_random_generator: 'RNG device' seed mode, using '/dev/urandom', seed=-296271810 seed_offset=0 real_seed=-296271810\n",
            "basic.random.init_random_generator: RandomGenerator:init: Normal mode, seed=-296271810 RG_type=mt19937\n"
          ]
        }
      ]
    },
    {
      "cell_type": "code",
      "source": [
        "from google.colab import drive\n",
        "import os\n",
        "\n",
        "drive.flush_and_unmount()\n",
        "\n",
        "drive.mount('/content/drive')\n",
        "\n",
        "path = '/content/drive/MyDrive/nb_caffeine_mod_for_AFL/Inputs/aftNb_start.pdb'\n",
        "path_aft = '/content/drive/MyDrive/nb_caffeine_mod_for_AFL/Inputs/aft.sdf'\n",
        "path_params = '/content/drive/MyDrive/nb_caffeine_mod_for_AFL/Inputs/AFT.params'\n",
        "drive_path = '/content/drive/MyDrive/nb_caffeine_mod_for_AFL/Inputs'\n"
      ],
      "metadata": {
        "id": "5EC-CS--cFRG",
        "colab": {
          "base_uri": "https://localhost:8080/"
        },
        "outputId": "0fe05583-edf6-4ab2-8564-1ac4adeae052"
      },
      "execution_count": 2,
      "outputs": [
        {
          "output_type": "stream",
          "name": "stdout",
          "text": [
            "Mounted at /content/drive\n"
          ]
        }
      ]
    },
    {
      "cell_type": "code",
      "source": [
        "ligand_params = path_params\n",
        "flags = f\"\"\"\n",
        "-ignore_unrecognized_res 1\n",
        "-extra_res_fa {ligand_params}\n",
        "\"\"\"\n",
        "pyrosetta.distributed.init(flags)\n",
        "pose = pyrosetta.io.pose_from_file(path)\n",
        "scorefxn = pyrosetta.create_score_function(\"ref2015\")"
      ],
      "metadata": {
        "id": "w4cfX5B64Wma",
        "outputId": "8a2e6456-92ee-416e-f78e-20567ecd9838",
        "colab": {
          "base_uri": "https://localhost:8080/"
        }
      },
      "execution_count": 7,
      "outputs": [
        {
          "output_type": "stream",
          "name": "stdout",
          "text": [
            "core.import_pose.import_pose: File '/content/drive/MyDrive/nb_caffeine_mod_for_AFL/Inputs/aftNb_start.pdb' automatically determined to be of type PDB\n",
            "core.io.pose_from_sfr.PoseFromSFRBuilder: [ WARNING ] discarding 12 atoms at position 121 in file /content/drive/MyDrive/nb_caffeine_mod_for_AFL/Inputs/aftNb_start.pdb. Best match rsd_type:  pdb_AFT\n",
            "core.conformation.Conformation: [ WARNING ] missing heavyatom:  OXT on residue VAL:CtermProteinFull 238\n"
          ]
        }
      ]
    },
    {
      "cell_type": "code",
      "source": [
        "# Obtener el número de cadenas en la pose\n",
        "num_chains = pose.num_chains()\n",
        "print(f\"Number of chains in the pose: {num_chains}\")\n",
        "\n",
        "# Imprimir los identificadores de las cadenas\n",
        "for i in range(1, num_chains + 1):\n",
        "    chain_id = pose.pdb_info().chain(i)\n",
        "    print(f\"Chain {i} ID: {chain_id}\")\n",
        "\n",
        "# O bien, dividir la pose por cadenas y verificar cada una\n",
        "#split_poses = pose.split_by_chain()\n",
        "#for chain_num, chain_pose in enumerate(split_poses, start=1):\n",
        "    #chain_id = chain_pose.pdb_info().chain(1)\n",
        "    #print(f\"Chain {chain_num} ID: {chain_id}\")"
      ],
      "metadata": {
        "id": "MFp4lUuBo27M",
        "outputId": "528c5128-78ac-434d-88c3-2bffd735af0a",
        "colab": {
          "base_uri": "https://localhost:8080/"
        }
      },
      "execution_count": 43,
      "outputs": [
        {
          "output_type": "stream",
          "name": "stdout",
          "text": [
            "Number of chains in the pose: 3\n",
            "Chain 1 ID: B\n",
            "Chain 2 ID: C\n",
            "Chain 3 ID: D\n"
          ]
        }
      ]
    },
    {
      "cell_type": "code",
      "source": [
        "xml = pyrosetta.rosetta.protocols.rosetta_scripts.XmlObjects.create_from_string(\"\"\"\n",
        "<ROSETTASCRIPTS>\n",
        "\n",
        "     <SCOREFXNS>\n",
        "        <ScoreFunction name=\"ligand_soft_rep\" weights=\"ligand_soft_rep\"/>\n",
        "        <ScoreFunction name=\"hard_rep\" weights=\"ligand\"/>\n",
        "        <ScoreFunction name=\"fa_standard\" weights=\"ref2015.wts\"/>\n",
        "    </SCOREFXNS>\n",
        "\n",
        "    <LIGAND_AREAS>\n",
        "        <LigandArea name=\"inhibitor_dock_sc_B\" chain=\"B\" cutoff=\"6.0\" add_nbr_radius=\"true\" all_atom_mode=\"false\"/>\n",
        "        <LigandArea name=\"inhibitor_final_sc_B\" chain=\"B\" cutoff=\"6.0\" add_nbr_radius=\"true\" all_atom_mode=\"false\"/>\n",
        "        <LigandArea name=\"inhibitor_final_bb_B\" chain=\"B\" cutoff=\"7.0\" add_nbr_radius=\"false\" all_atom_mode=\"true\" Calpha_restraints=\"0.3\"/>\n",
        "\n",
        "        <LigandArea name=\"inhibitor_dock_sc_C\" chain=\"C\" cutoff=\"6.0\" add_nbr_radius=\"true\" all_atom_mode=\"false\"/>\n",
        "        <LigandArea name=\"inhibitor_final_sc_C\" chain=\"C\" cutoff=\"6.0\" add_nbr_radius=\"true\" all_atom_mode=\"false\"/>\n",
        "        <LigandArea name=\"inhibitor_final_bb_C\" chain=\"C\" cutoff=\"7.0\" add_nbr_radius=\"false\" all_atom_mode=\"true\" Calpha_restraints=\"0.3\"/>\n",
        "\n",
        "         <LigandArea name=\"inhibitor_dock_sc_D\" chain=\"D\" cutoff=\"6.0\" add_nbr_radius=\"true\" all_atom_mode=\"false\"/>\n",
        "        <LigandArea name=\"inhibitor_final_sc_D\" chain=\"D\" cutoff=\"6.0\" add_nbr_radius=\"true\" all_atom_mode=\"false\"/>\n",
        "        <LigandArea name=\"inhibitor_final_bb_D\" chain=\"D\" cutoff=\"7.0\" add_nbr_radius=\"false\" all_atom_mode=\"true\" Calpha_restraints=\"0.3\"/>\n",
        "    </LIGAND_AREAS>\n",
        "\n",
        "    <INTERFACE_BUILDERS>\n",
        "        <InterfaceBuilder name=\"side_chain_for_docking_B\" ligand_areas=\"inhibitor_dock_sc_B\"/>\n",
        "        <InterfaceBuilder name=\"side_chain_for_final_B\" ligand_areas=\"inhibitor_final_sc_B\"/>\n",
        "        <InterfaceBuilder name=\"backbone_B\" ligand_areas=\"inhibitor_final_bb_B\" extension_window=\"3\"/>\n",
        "\n",
        "        <InterfaceBuilder name=\"side_chain_for_docking_C\" ligand_areas=\"inhibitor_dock_sc_C\"/>\n",
        "        <InterfaceBuilder name=\"side_chain_for_final_C\" ligand_areas=\"inhibitor_final_sc_C\"/>\n",
        "        <InterfaceBuilder name=\"backbone_C\" ligand_areas=\"inhibitor_final_bb_C\" extension_window=\"3\"/>\n",
        "\n",
        "        <InterfaceBuilder name=\"side_chain_for_docking_D\" ligand_areas=\"inhibitor_dock_sc_D\"/>\n",
        "        <InterfaceBuilder name=\"side_chain_for_final_D\" ligand_areas=\"inhibitor_final_sc_D\"/>\n",
        "        <InterfaceBuilder name=\"backbone_D\" ligand_areas=\"inhibitor_final_bb_D\" extension_window=\"3\"/>\n",
        "    </INTERFACE_BUILDERS>\n",
        "\n",
        "    <MOVEMAP_BUILDERS>\n",
        "        <MoveMapBuilder name=\"docking_B\" sc_interface=\"side_chain_for_docking_B\" minimize_water=\"false\"/>\n",
        "        <MoveMapBuilder name=\"final_B\" sc_interface=\"side_chain_for_final_B\" bb_interface=\"backbone_B\" minimize_water=\"false\"/>\n",
        "\n",
        "        <MoveMapBuilder name=\"docking_C\" sc_interface=\"side_chain_for_docking_C\" minimize_water=\"false\"/>\n",
        "        <MoveMapBuilder name=\"final_C\" sc_interface=\"side_chain_for_final_C\" bb_interface=\"backbone_C\" minimize_water=\"false\"/>\n",
        "\n",
        "        <MoveMapBuilder name=\"docking_D\" sc_interface=\"side_chain_for_docking_D\" minimize_water=\"false\"/>\n",
        "        <MoveMapBuilder name=\"final_D\" sc_interface=\"side_chain_for_final_D\" bb_interface=\"backbone_D\" minimize_water=\"false\"/>\n",
        "    </MOVEMAP_BUILDERS>\n",
        "\n",
        "    <SCORINGGRIDS width=\"15\">\n",
        "        <ClassicGrid grid_name=\"classic_B\" weight=\"1.0\"/>\n",
        "        <ClassicGrid grid_name=\"classic_C\" weight=\"1.0\"/>\n",
        "        <ClassicGrid grid_name=\"classic_D\" weight=\"1.0\"/>\n",
        "    </SCORINGGRIDS>\n",
        "\n",
        "    <MOVERS>\n",
        "        <Transform name=\"transform_B\" chain=\"B\" box_size=\"7.0\" move_distance=\"0.2\" angle=\"20\" cycles=\"30\" repeats=\"1\" temperature=\"5\"/>\n",
        "        <Transform name=\"transform_C\" chain=\"C\" box_size=\"7.0\" move_distance=\"0.2\" angle=\"20\" cycles=\"30\" repeats=\"1\" temperature=\"5\"/>\n",
        "        <Transform name=\"transform_D\" chain=\"D\" box_size=\"7.0\" move_distance=\"0.2\" angle=\"20\" cycles=\"30\" repeats=\"1\" temperature=\"5\"/>\n",
        "\n",
        "        <HighResDocker name=\"high_res_docker_B\" cycles=\"6\" repack_every_Nth=\"3\" scorefxn=\"ligand_soft_rep\" movemap_builder=\"docking_B\"/>\n",
        "        <HighResDocker name=\"high_res_docker_C\" cycles=\"6\" repack_every_Nth=\"3\" scorefxn=\"ligand_soft_rep\" movemap_builder=\"docking_C\"/>\n",
        "        <HighResDocker name=\"high_res_docker_D\" cycles=\"6\" repack_every_Nth=\"3\" scorefxn=\"ligand_soft_rep\" movemap_builder=\"docking_D\"/>\n",
        "\n",
        "        <FinalMinimizer name=\"final_B\" scorefxn=\"hard_rep\" movemap_builder=\"final_B\"/>\n",
        "        <FinalMinimizer name=\"final_C\" scorefxn=\"hard_rep\" movemap_builder=\"final_C\"/>\n",
        "        <FinalMinimizer name=\"final_D\" scorefxn=\"hard_rep\" movemap_builder=\"final_D\"/>\n",
        "\n",
        "        <InterfaceScoreCalculator name=\"add_scores_B\" chains=\"B\" scorefxn=\"hard_rep\" native='/content/drive/MyDrive/nb_caffeine_mod_for_AFL/Inputs/aftNb_start.pdb'/>\n",
        "        <InterfaceScoreCalculator name=\"add_scores_C\" chains=\"C\" scorefxn=\"hard_rep\" native='/content/drive/MyDrive/nb_caffeine_mod_for_AFL/Inputs/aftNb_start.pdb'/>\n",
        "        <InterfaceScoreCalculator name=\"add_scores_D\" chains=\"D\" scorefxn=\"hard_rep\" native='/content/drive/MyDrive/nb_caffeine_mod_for_AFL/Inputs/aftNb_start.pdb'/>\n",
        "    </MOVERS>\n",
        "\n",
        "    <PROTOCOLS>\n",
        "        <Add mover_name=\"transform_B\"/>\n",
        "        <Add mover_name=\"transform_C\"/>\n",
        "        <Add mover_name=\"transform_D\"/>\n",
        "\n",
        "        <Add mover_name=\"high_res_docker_B\"/>\n",
        "        <Add mover_name=\"high_res_docker_C\"/>\n",
        "        <Add mover_name=\"high_res_docker_B\"/>\n",
        "\n",
        "        <Add mover_name=\"final_B\"/>\n",
        "        <Add mover_name=\"final_C\"/>\n",
        "        <Add mover_name=\"final_D\"/>\n",
        "\n",
        "        <Add mover_name=\"add_scores_B\"/>\n",
        "        <Add mover_name=\"add_scores_C\"/>\n",
        "        <Add mover_name=\"add_scores_D\"/>\n",
        "    </PROTOCOLS>\n",
        "\n",
        "</ROSETTASCRIPTS>\n",
        "\n",
        "\"\"\").get_mover(\"ParsedProtocol\")"
      ],
      "metadata": {
        "colab": {
          "base_uri": "https://localhost:8080/"
        },
        "id": "TfHzdmEM8p7k",
        "outputId": "52e61169-60d4-41ad-94c2-992947ceef10"
      },
      "execution_count": 47,
      "outputs": [
        {
          "output_type": "stream",
          "name": "stdout",
          "text": [
            "protocols.rosetta_scripts.RosettaScriptsParser: Validating input script...\n",
            "protocols.rosetta_scripts.RosettaScriptsParser: ...done\n",
            "protocols.rosetta_scripts.RosettaScriptsParser: Parsed script:\n",
            "<ROSETTASCRIPTS>\n",
            "\t<SCOREFXNS>\n",
            "\t\t<ScoreFunction name=\"ligand_soft_rep\" weights=\"ligand_soft_rep\"/>\n",
            "\t\t<ScoreFunction name=\"hard_rep\" weights=\"ligand\"/>\n",
            "\t\t<ScoreFunction name=\"fa_standard\" weights=\"ref2015.wts\"/>\n",
            "\t</SCOREFXNS>\n",
            "\t<LIGAND_AREAS>\n",
            "\t\t<LigandArea add_nbr_radius=\"true\" all_atom_mode=\"false\" chain=\"B\" cutoff=\"6.0\" name=\"inhibitor_dock_sc_B\"/>\n",
            "\t\t<LigandArea add_nbr_radius=\"true\" all_atom_mode=\"false\" chain=\"B\" cutoff=\"6.0\" name=\"inhibitor_final_sc_B\"/>\n",
            "\t\t<LigandArea Calpha_restraints=\"0.3\" add_nbr_radius=\"false\" all_atom_mode=\"true\" chain=\"B\" cutoff=\"7.0\" name=\"inhibitor_final_bb_B\"/>\n",
            "\t\t<LigandArea add_nbr_radius=\"true\" all_atom_mode=\"false\" chain=\"C\" cutoff=\"6.0\" name=\"inhibitor_dock_sc_C\"/>\n",
            "\t\t<LigandArea add_nbr_radius=\"true\" all_atom_mode=\"false\" chain=\"C\" cutoff=\"6.0\" name=\"inhibitor_final_sc_C\"/>\n",
            "\t\t<LigandArea Calpha_restraints=\"0.3\" add_nbr_radius=\"false\" all_atom_mode=\"true\" chain=\"C\" cutoff=\"7.0\" name=\"inhibitor_final_bb_C\"/>\n",
            "\t\t<LigandArea add_nbr_radius=\"true\" all_atom_mode=\"false\" chain=\"D\" cutoff=\"6.0\" name=\"inhibitor_dock_sc_D\"/>\n",
            "\t\t<LigandArea add_nbr_radius=\"true\" all_atom_mode=\"false\" chain=\"D\" cutoff=\"6.0\" name=\"inhibitor_final_sc_D\"/>\n",
            "\t\t<LigandArea Calpha_restraints=\"0.3\" add_nbr_radius=\"false\" all_atom_mode=\"true\" chain=\"D\" cutoff=\"7.0\" name=\"inhibitor_final_bb_D\"/>\n",
            "\t</LIGAND_AREAS>\n",
            "\t<INTERFACE_BUILDERS>\n",
            "\t\t<InterfaceBuilder ligand_areas=\"inhibitor_dock_sc_B\" name=\"side_chain_for_docking_B\"/>\n",
            "\t\t<InterfaceBuilder ligand_areas=\"inhibitor_final_sc_B\" name=\"side_chain_for_final_B\"/>\n",
            "\t\t<InterfaceBuilder extension_window=\"3\" ligand_areas=\"inhibitor_final_bb_B\" name=\"backbone_B\"/>\n",
            "\t\t<InterfaceBuilder ligand_areas=\"inhibitor_dock_sc_C\" name=\"side_chain_for_docking_C\"/>\n",
            "\t\t<InterfaceBuilder ligand_areas=\"inhibitor_final_sc_C\" name=\"side_chain_for_final_C\"/>\n",
            "\t\t<InterfaceBuilder extension_window=\"3\" ligand_areas=\"inhibitor_final_bb_C\" name=\"backbone_C\"/>\n",
            "\t\t<InterfaceBuilder ligand_areas=\"inhibitor_dock_sc_D\" name=\"side_chain_for_docking_D\"/>\n",
            "\t\t<InterfaceBuilder ligand_areas=\"inhibitor_final_sc_D\" name=\"side_chain_for_final_D\"/>\n",
            "\t\t<InterfaceBuilder extension_window=\"3\" ligand_areas=\"inhibitor_final_bb_D\" name=\"backbone_D\"/>\n",
            "\t</INTERFACE_BUILDERS>\n",
            "\t<MOVEMAP_BUILDERS>\n",
            "\t\t<MoveMapBuilder minimize_water=\"false\" name=\"docking_B\" sc_interface=\"side_chain_for_docking_B\"/>\n",
            "\t\t<MoveMapBuilder bb_interface=\"backbone_B\" minimize_water=\"false\" name=\"final_B\" sc_interface=\"side_chain_for_final_B\"/>\n",
            "\t\t<MoveMapBuilder minimize_water=\"false\" name=\"docking_C\" sc_interface=\"side_chain_for_docking_C\"/>\n",
            "\t\t<MoveMapBuilder bb_interface=\"backbone_C\" minimize_water=\"false\" name=\"final_C\" sc_interface=\"side_chain_for_final_C\"/>\n",
            "\t\t<MoveMapBuilder minimize_water=\"false\" name=\"docking_D\" sc_interface=\"side_chain_for_docking_D\"/>\n",
            "\t\t<MoveMapBuilder bb_interface=\"backbone_D\" minimize_water=\"false\" name=\"final_D\" sc_interface=\"side_chain_for_final_D\"/>\n",
            "\t</MOVEMAP_BUILDERS>\n",
            "\t<SCORINGGRIDS width=\"15\">\n",
            "\t\t<ClassicGrid grid_name=\"classic_B\" weight=\"1.0\"/>\n",
            "\t\t<ClassicGrid grid_name=\"classic_C\" weight=\"1.0\"/>\n",
            "\t\t<ClassicGrid grid_name=\"classic_D\" weight=\"1.0\"/>\n",
            "\t</SCORINGGRIDS>\n",
            "\t<MOVERS>\n",
            "\t\t<Transform angle=\"20\" box_size=\"7.0\" chain=\"B\" cycles=\"30\" move_distance=\"0.2\" name=\"transform_B\" repeats=\"1\" temperature=\"5\"/>\n",
            "\t\t<Transform angle=\"20\" box_size=\"7.0\" chain=\"C\" cycles=\"30\" move_distance=\"0.2\" name=\"transform_C\" repeats=\"1\" temperature=\"5\"/>\n",
            "\t\t<Transform angle=\"20\" box_size=\"7.0\" chain=\"D\" cycles=\"30\" move_distance=\"0.2\" name=\"transform_D\" repeats=\"1\" temperature=\"5\"/>\n",
            "\t\t<HighResDocker cycles=\"6\" movemap_builder=\"docking_B\" name=\"high_res_docker_B\" repack_every_Nth=\"3\" scorefxn=\"ligand_soft_rep\"/>\n",
            "\t\t<HighResDocker cycles=\"6\" movemap_builder=\"docking_C\" name=\"high_res_docker_C\" repack_every_Nth=\"3\" scorefxn=\"ligand_soft_rep\"/>\n",
            "\t\t<HighResDocker cycles=\"6\" movemap_builder=\"docking_D\" name=\"high_res_docker_D\" repack_every_Nth=\"3\" scorefxn=\"ligand_soft_rep\"/>\n",
            "\t\t<FinalMinimizer movemap_builder=\"final_B\" name=\"final_B\" scorefxn=\"hard_rep\"/>\n",
            "\t\t<FinalMinimizer movemap_builder=\"final_C\" name=\"final_C\" scorefxn=\"hard_rep\"/>\n",
            "\t\t<FinalMinimizer movemap_builder=\"final_D\" name=\"final_D\" scorefxn=\"hard_rep\"/>\n",
            "\t\t<InterfaceScoreCalculator chains=\"B\" name=\"add_scores_B\" native=\"/content/drive/MyDrive/nb_caffeine_mod_for_AFL/Inputs/aftNb_start.pdb\" scorefxn=\"hard_rep\"/>\n",
            "\t\t<InterfaceScoreCalculator chains=\"C\" name=\"add_scores_C\" native=\"/content/drive/MyDrive/nb_caffeine_mod_for_AFL/Inputs/aftNb_start.pdb\" scorefxn=\"hard_rep\"/>\n",
            "\t\t<InterfaceScoreCalculator chains=\"D\" name=\"add_scores_D\" native=\"/content/drive/MyDrive/nb_caffeine_mod_for_AFL/Inputs/aftNb_start.pdb\" scorefxn=\"hard_rep\"/>\n",
            "\t</MOVERS>\n",
            "\t<PROTOCOLS>\n",
            "\t\t<Add mover_name=\"transform_B\"/>\n",
            "\t\t<Add mover_name=\"transform_C\"/>\n",
            "\t\t<Add mover_name=\"transform_D\"/>\n",
            "\t\t<Add mover_name=\"high_res_docker_B\"/>\n",
            "\t\t<Add mover_name=\"high_res_docker_C\"/>\n",
            "\t\t<Add mover_name=\"high_res_docker_B\"/>\n",
            "\t\t<Add mover_name=\"final_B\"/>\n",
            "\t\t<Add mover_name=\"final_C\"/>\n",
            "\t\t<Add mover_name=\"final_D\"/>\n",
            "\t\t<Add mover_name=\"add_scores_B\"/>\n",
            "\t\t<Add mover_name=\"add_scores_C\"/>\n",
            "\t\t<Add mover_name=\"add_scores_D\"/>\n",
            "\t</PROTOCOLS>\n",
            "</ROSETTASCRIPTS>\n",
            "core.scoring.ScoreFunctionFactory: SCOREFUNCTION: ref2015\n",
            "protocols.jd2.parser.ScoreFunctionLoader: defined score function \"ligand_soft_rep\" with weights \"ligand_soft_rep\"\n",
            "protocols.jd2.parser.ScoreFunctionLoader: defined score function \"hard_rep\" with weights \"ligand\"\n",
            "protocols.jd2.parser.ScoreFunctionLoader: defined score function \"fa_standard\" with weights \"ref2015.wts\"\n",
            "protocols.rosetta_scripts.RosettaScriptsParser: Defined mover named \"transform_B\" of type Transform\n",
            "protocols.rosetta_scripts.RosettaScriptsParser: Defined mover named \"transform_C\" of type Transform\n",
            "protocols.rosetta_scripts.RosettaScriptsParser: Defined mover named \"transform_D\" of type Transform\n",
            "protocols.ligand_docking.ligand_options.Protocol: Initializing options:\n",
            "protocols.ligand_docking.ligand_options.Protocol: allow_minimization_: 1\n",
            "protocols.ligand_docking.ligand_options.Protocol: allow_repacking_: 1\n",
            "protocols.ligand_docking.ligand_options.Protocol: all_residues_: 0\n",
            "protocols.rosetta_scripts.RosettaScriptsParser: Defined mover named \"high_res_docker_B\" of type HighResDocker\n",
            "protocols.ligand_docking.ligand_options.Protocol: Initializing options:\n",
            "protocols.ligand_docking.ligand_options.Protocol: allow_minimization_: 1\n",
            "protocols.ligand_docking.ligand_options.Protocol: allow_repacking_: 1\n",
            "protocols.ligand_docking.ligand_options.Protocol: all_residues_: 0\n",
            "protocols.rosetta_scripts.RosettaScriptsParser: Defined mover named \"high_res_docker_C\" of type HighResDocker\n",
            "protocols.ligand_docking.ligand_options.Protocol: Initializing options:\n",
            "protocols.ligand_docking.ligand_options.Protocol: allow_minimization_: 1\n",
            "protocols.ligand_docking.ligand_options.Protocol: allow_repacking_: 1\n",
            "protocols.ligand_docking.ligand_options.Protocol: all_residues_: 0\n",
            "protocols.rosetta_scripts.RosettaScriptsParser: Defined mover named \"high_res_docker_D\" of type HighResDocker\n",
            "protocols.rosetta_scripts.RosettaScriptsParser: Defined mover named \"final_B\" of type FinalMinimizer\n",
            "protocols.rosetta_scripts.RosettaScriptsParser: Defined mover named \"final_C\" of type FinalMinimizer\n",
            "protocols.rosetta_scripts.RosettaScriptsParser: Defined mover named \"final_D\" of type FinalMinimizer\n",
            "core.import_pose.import_pose: File '/content/drive/MyDrive/nb_caffeine_mod_for_AFL/Inputs/aftNb_start.pdb' automatically determined to be of type PDB\n",
            "core.io.pose_from_sfr.PoseFromSFRBuilder: [ WARNING ] discarding 12 atoms at position 121 in file /content/drive/MyDrive/nb_caffeine_mod_for_AFL/Inputs/aftNb_start.pdb. Best match rsd_type:  pdb_AFT\n",
            "core.conformation.Conformation: [ WARNING ] missing heavyatom:  OXT on residue VAL:CtermProteinFull 238\n",
            "protocols.rosetta_scripts.RosettaScriptsParser: Defined mover named \"add_scores_B\" of type InterfaceScoreCalculator\n",
            "core.import_pose.import_pose: File '/content/drive/MyDrive/nb_caffeine_mod_for_AFL/Inputs/aftNb_start.pdb' automatically determined to be of type PDB\n",
            "core.io.pose_from_sfr.PoseFromSFRBuilder: [ WARNING ] discarding 12 atoms at position 121 in file /content/drive/MyDrive/nb_caffeine_mod_for_AFL/Inputs/aftNb_start.pdb. Best match rsd_type:  pdb_AFT\n",
            "core.conformation.Conformation: [ WARNING ] missing heavyatom:  OXT on residue VAL:CtermProteinFull 238\n",
            "protocols.rosetta_scripts.RosettaScriptsParser: Defined mover named \"add_scores_C\" of type InterfaceScoreCalculator\n",
            "core.import_pose.import_pose: File '/content/drive/MyDrive/nb_caffeine_mod_for_AFL/Inputs/aftNb_start.pdb' automatically determined to be of type PDB\n",
            "core.io.pose_from_sfr.PoseFromSFRBuilder: [ WARNING ] discarding 12 atoms at position 121 in file /content/drive/MyDrive/nb_caffeine_mod_for_AFL/Inputs/aftNb_start.pdb. Best match rsd_type:  pdb_AFT\n",
            "core.conformation.Conformation: [ WARNING ] missing heavyatom:  OXT on residue VAL:CtermProteinFull 238\n",
            "protocols.rosetta_scripts.RosettaScriptsParser: Defined mover named \"add_scores_D\" of type InterfaceScoreCalculator\n",
            "protocols.rosetta_scripts.ParsedProtocol: ParsedProtocol mover with the following settings\n",
            "protocols.rosetta_scripts.ParsedProtocol: Added mover \"transform_B\"\n",
            "protocols.rosetta_scripts.ParsedProtocol: Added mover \"transform_C\"\n",
            "protocols.rosetta_scripts.ParsedProtocol: Added mover \"transform_D\"\n",
            "protocols.rosetta_scripts.ParsedProtocol: Added mover \"high_res_docker_B\"\n",
            "protocols.ligand_docking.ligand_options.Protocol: Initializing options:\n",
            "protocols.ligand_docking.ligand_options.Protocol: allow_minimization_: 1\n",
            "protocols.ligand_docking.ligand_options.Protocol: allow_repacking_: 1\n",
            "protocols.ligand_docking.ligand_options.Protocol: all_residues_: 0\n",
            "protocols.rosetta_scripts.ParsedProtocol: Added mover \"high_res_docker_C\"\n",
            "protocols.ligand_docking.ligand_options.Protocol: Initializing options:\n",
            "protocols.ligand_docking.ligand_options.Protocol: allow_minimization_: 1\n",
            "protocols.ligand_docking.ligand_options.Protocol: allow_repacking_: 1\n",
            "protocols.ligand_docking.ligand_options.Protocol: all_residues_: 0\n",
            "protocols.rosetta_scripts.ParsedProtocol: Added mover \"high_res_docker_B\"\n",
            "protocols.ligand_docking.ligand_options.Protocol: Initializing options:\n",
            "protocols.ligand_docking.ligand_options.Protocol: allow_minimization_: 1\n",
            "protocols.ligand_docking.ligand_options.Protocol: allow_repacking_: 1\n",
            "protocols.ligand_docking.ligand_options.Protocol: all_residues_: 0\n",
            "protocols.rosetta_scripts.ParsedProtocol: Added mover \"final_B\"\n",
            "protocols.rosetta_scripts.ParsedProtocol: Added mover \"final_C\"\n",
            "protocols.rosetta_scripts.ParsedProtocol: Added mover \"final_D\"\n",
            "protocols.rosetta_scripts.ParsedProtocol: Added mover \"add_scores_B\"\n",
            "protocols.rosetta_scripts.ParsedProtocol: Added mover \"add_scores_C\"\n",
            "protocols.rosetta_scripts.ParsedProtocol: Added mover \"add_scores_D\"\n"
          ]
        }
      ]
    },
    {
      "cell_type": "code",
      "source": [
        "if not os.getenv(\"DEBUG\"):\n",
        "    working_dir = os.getcwd()\n",
        "    output_dir = \"outputs\"\n",
        "    if not os.path.exists(output_dir):\n",
        "        os.mkdir(output_dir)\n",
        "    os.chdir(output_dir)\n",
        "\n",
        "    jd = pyrosetta.toolbox.py_jobdistributor.PyJobDistributor(pdb_name=\"test_lig_XMLObjects\",\n",
        "                                                              nstruct=5,\n",
        "                                                              scorefxn=scorefxn)\n",
        "    jd.native_pose = pose\n",
        "    df = pd.DataFrame()\n",
        "    while not jd.job_complete:\n",
        "        test_pose = pose.clone()\n",
        "        xml.apply(test_pose)\n",
        "        test_df = pd.DataFrame.from_records(dict(test_pose.scores), index=[jd.current_name])\n",
        "        df = df.append(test_df)\n",
        "        jd.output_decoy(test_pose)\n",
        "    os.chdir(working_dir)\n"
      ],
      "metadata": {
        "colab": {
          "base_uri": "https://localhost:8080/",
          "height": 367
        },
        "id": "dnUBBBL1OjPn",
        "outputId": "e6cae443-907d-49dc-daec-b71afb17cb80"
      },
      "execution_count": 48,
      "outputs": [
        {
          "output_type": "stream",
          "name": "stdout",
          "text": [
            "Working on decoy: test_lig_XMLObjects_3.pdb\n",
            "protocols.rosetta_scripts.ParsedProtocol: =======================BEGIN MOVER Transform - transform_B=======================\n",
            "protocols.rosetta_scripts.ParsedProtocol: [ ERROR ] Exception while processing protocol: \n",
            "\n",
            "File: /home/benchmark/rosetta/source/src/core/pose/chains_util.cc:455\n",
            "chain_id B represents more than one chain!\n"
          ]
        },
        {
          "output_type": "error",
          "ename": "RuntimeError",
          "evalue": "\n\nFile: /home/benchmark/rosetta/source/src/core/pose/chains_util.cc:455\nchain_id B represents more than one chain!",
          "traceback": [
            "\u001b[0;31m---------------------------------------------------------------------------\u001b[0m",
            "\u001b[0;31mRuntimeError\u001b[0m                              Traceback (most recent call last)",
            "\u001b[0;32m<ipython-input-48-ffc621a5402e>\u001b[0m in \u001b[0;36m<cell line: 1>\u001b[0;34m()\u001b[0m\n\u001b[1;32m     13\u001b[0m     \u001b[0;32mwhile\u001b[0m \u001b[0;32mnot\u001b[0m \u001b[0mjd\u001b[0m\u001b[0;34m.\u001b[0m\u001b[0mjob_complete\u001b[0m\u001b[0;34m:\u001b[0m\u001b[0;34m\u001b[0m\u001b[0;34m\u001b[0m\u001b[0m\n\u001b[1;32m     14\u001b[0m         \u001b[0mtest_pose\u001b[0m \u001b[0;34m=\u001b[0m \u001b[0mpose\u001b[0m\u001b[0;34m.\u001b[0m\u001b[0mclone\u001b[0m\u001b[0;34m(\u001b[0m\u001b[0;34m)\u001b[0m\u001b[0;34m\u001b[0m\u001b[0;34m\u001b[0m\u001b[0m\n\u001b[0;32m---> 15\u001b[0;31m         \u001b[0mxml\u001b[0m\u001b[0;34m.\u001b[0m\u001b[0mapply\u001b[0m\u001b[0;34m(\u001b[0m\u001b[0mtest_pose\u001b[0m\u001b[0;34m)\u001b[0m\u001b[0;34m\u001b[0m\u001b[0;34m\u001b[0m\u001b[0m\n\u001b[0m\u001b[1;32m     16\u001b[0m         \u001b[0mtest_df\u001b[0m \u001b[0;34m=\u001b[0m \u001b[0mpd\u001b[0m\u001b[0;34m.\u001b[0m\u001b[0mDataFrame\u001b[0m\u001b[0;34m.\u001b[0m\u001b[0mfrom_records\u001b[0m\u001b[0;34m(\u001b[0m\u001b[0mdict\u001b[0m\u001b[0;34m(\u001b[0m\u001b[0mtest_pose\u001b[0m\u001b[0;34m.\u001b[0m\u001b[0mscores\u001b[0m\u001b[0;34m)\u001b[0m\u001b[0;34m,\u001b[0m \u001b[0mindex\u001b[0m\u001b[0;34m=\u001b[0m\u001b[0;34m[\u001b[0m\u001b[0mjd\u001b[0m\u001b[0;34m.\u001b[0m\u001b[0mcurrent_name\u001b[0m\u001b[0;34m]\u001b[0m\u001b[0;34m)\u001b[0m\u001b[0;34m\u001b[0m\u001b[0;34m\u001b[0m\u001b[0m\n\u001b[1;32m     17\u001b[0m         \u001b[0mdf\u001b[0m \u001b[0;34m=\u001b[0m \u001b[0mdf\u001b[0m\u001b[0;34m.\u001b[0m\u001b[0mappend\u001b[0m\u001b[0;34m(\u001b[0m\u001b[0mtest_df\u001b[0m\u001b[0;34m)\u001b[0m\u001b[0;34m\u001b[0m\u001b[0;34m\u001b[0m\u001b[0m\n",
            "\u001b[0;31mRuntimeError\u001b[0m: \n\nFile: /home/benchmark/rosetta/source/src/core/pose/chains_util.cc:455\nchain_id B represents more than one chain!"
          ]
        }
      ]
    }
  ]
}