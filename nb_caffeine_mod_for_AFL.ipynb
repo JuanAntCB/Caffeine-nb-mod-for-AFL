{
  "nbformat": 4,
  "nbformat_minor": 0,
  "metadata": {
    "colab": {
      "provenance": [],
      "authorship_tag": "ABX9TyME6B+KFYrAVacve3Fp+0SV",
      "include_colab_link": true
    },
    "kernelspec": {
      "name": "python3",
      "display_name": "Python 3"
    },
    "language_info": {
      "name": "python"
    }
  },
  "cells": [
    {
      "cell_type": "markdown",
      "metadata": {
        "id": "view-in-github",
        "colab_type": "text"
      },
      "source": [
        "<a href=\"https://colab.research.google.com/github/JuanAntCB/Caffeine-nb-mod-for-AFL/blob/main/nb_caffeine_mod_for_AFL.ipynb\" target=\"_parent\"><img src=\"https://colab.research.google.com/assets/colab-badge.svg\" alt=\"Open In Colab\"/></a>"
      ]
    },
    {
      "cell_type": "code",
      "source": [
        "!pip install pyrosettacolabsetup\n",
        "import pyrosettacolabsetup; pyrosettacolabsetup.install_pyrosetta()\n",
        "import pyrosetta; pyrosetta.init()\n",
        "from pyrosetta import *\n",
        "import sys\n",
        "import pandas as pd\n",
        "import matplotlib\n",
        "init()"
      ],
      "metadata": {
        "colab": {
          "base_uri": "https://localhost:8080/"
        },
        "id": "snzUENFAbaeM",
        "outputId": "772b306c-7d19-4676-8413-dad0a6844d7e"
      },
      "execution_count": 7,
      "outputs": [
        {
          "output_type": "stream",
          "name": "stdout",
          "text": [
            "Requirement already satisfied: pyrosettacolabsetup in /usr/local/lib/python3.10/dist-packages (1.0.9)\n",
            "PyRosetta-4 2023 [Rosetta PyRosetta4.MinSizeRel.python310.ubuntu 2024.01+release.00b79147e63be743438188f93a3f069ca75106d6 2023-12-25T16:35:48] retrieved from: http://www.pyrosetta.org\n",
            "(C) Copyright Rosetta Commons Member Institutions. Created in JHU by Sergey Lyskov and PyRosetta Team.\n",
            "core.init: Checking for fconfig files in pwd and ./rosetta/flags\n",
            "core.init: Rosetta version: PyRosetta4.MinSizeRel.python310.ubuntu r366 2024.01+release.00b79147e63 00b79147e63be743438188f93a3f069ca75106d6 http://www.pyrosetta.org 2023-12-25T16:35:48\n",
            "core.init: command: PyRosetta -ex1 -ex2aro -database /usr/local/lib/python3.10/dist-packages/pyrosetta/database\n",
            "basic.random.init_random_generator: 'RNG device' seed mode, using '/dev/urandom', seed=-331311240 seed_offset=0 real_seed=-331311240\n",
            "basic.random.init_random_generator: RandomGenerator:init: Normal mode, seed=-331311240 RG_type=mt19937\n",
            "PyRosetta-4 2023 [Rosetta PyRosetta4.MinSizeRel.python310.ubuntu 2024.01+release.00b79147e63be743438188f93a3f069ca75106d6 2023-12-25T16:35:48] retrieved from: http://www.pyrosetta.org\n",
            "(C) Copyright Rosetta Commons Member Institutions. Created in JHU by Sergey Lyskov and PyRosetta Team.\n",
            "core.init: Checking for fconfig files in pwd and ./rosetta/flags\n",
            "core.init: Rosetta version: PyRosetta4.MinSizeRel.python310.ubuntu r366 2024.01+release.00b79147e63 00b79147e63be743438188f93a3f069ca75106d6 http://www.pyrosetta.org 2023-12-25T16:35:48\n",
            "core.init: command: PyRosetta -ex1 -ex2aro -database /usr/local/lib/python3.10/dist-packages/pyrosetta/database\n",
            "basic.random.init_random_generator: 'RNG device' seed mode, using '/dev/urandom', seed=-1412224786 seed_offset=0 real_seed=-1412224786\n",
            "basic.random.init_random_generator: RandomGenerator:init: Normal mode, seed=-1412224786 RG_type=mt19937\n"
          ]
        }
      ]
    },
    {
      "cell_type": "code",
      "source": [
        "from google.colab import drive\n",
        "import os\n",
        "\n",
        "drive.flush_and_unmount()\n",
        "\n",
        "drive.mount('/content/drive')\n",
        "\n",
        "path = '/content/drive/MyDrive/nb_caffeine_mod_for_AFL/Inputs/aftNb_start.pdb'\n",
        "path_aft = '/content/drive/MyDrive/nb_caffeine_mod_for_AFL/Inputs/aft.sdf'\n",
        "path_params = '/content/drive/MyDrive/nb_caffeine_mod_for_AFL/Inputs/AFT.params'\n",
        "drive_path = '/content/drive/MyDrive/nb_caffeine_mod_for_AFL/Inputs'\n"
      ],
      "metadata": {
        "id": "5EC-CS--cFRG",
        "colab": {
          "base_uri": "https://localhost:8080/"
        },
        "outputId": "45d01e0c-df92-4f42-8090-5a67eb997931"
      },
      "execution_count": 2,
      "outputs": [
        {
          "output_type": "stream",
          "name": "stdout",
          "text": [
            "Mounted at /content/drive\n"
          ]
        }
      ]
    },
    {
      "cell_type": "code",
      "source": [
        "ligand_params = path_params\n",
        "flags = f\"\"\"\n",
        "-ignore_unrecognized_res 1\n",
        "-extra_res_fa {ligand_params}\n",
        "\"\"\"\n",
        "pyrosetta.distributed.init(flags)\n",
        "pose = pyrosetta.io.pose_from_file(path)\n",
        "scorefxn = pyrosetta.create_score_function(\"ref2015\")"
      ],
      "metadata": {
        "colab": {
          "base_uri": "https://localhost:8080/"
        },
        "id": "nyd8Z3vUZGrK",
        "outputId": "3cb30fbb-4da1-48cf-8984-337653fdddb1"
      },
      "execution_count": 3,
      "outputs": [
        {
          "output_type": "stream",
          "name": "stdout",
          "text": [
            "core.chemical.GlobalResidueTypeSet: Finished initializing fa_standard residue type set.  Created 985 residue types\n",
            "core.chemical.GlobalResidueTypeSet: Total time to initialize 1.48174 seconds.\n",
            "core.import_pose.import_pose: File '/content/drive/MyDrive/nb_caffeine_mod_for_AFL/Inputs/aftNb_start.pdb' automatically determined to be of type PDB\n",
            "core.chemical.GlobalResidueTypeSet: Loading (but possibly not actually using) 'AFT' from the PDB components dictionary for residue type 'pdb_AFT'\n",
            "core.io.pose_from_sfr.PoseFromSFRBuilder: [ WARNING ] discarding 12 atoms at position 121 in file /content/drive/MyDrive/nb_caffeine_mod_for_AFL/Inputs/aftNb_start.pdb. Best match rsd_type:  pdb_AFT\n",
            "core.conformation.Conformation: [ WARNING ] missing heavyatom:  OXT on residue VAL:CtermProteinFull 238\n",
            "core.scoring.etable: Starting energy table calculation\n",
            "core.scoring.etable: smooth_etable: changing atr/rep split to bottom of energy well\n",
            "core.scoring.etable: smooth_etable: spline smoothing lj etables (maxdis = 6)\n",
            "core.scoring.etable: smooth_etable: spline smoothing solvation etables (max_dis = 6)\n",
            "core.scoring.etable: Finished calculating energy tables.\n",
            "basic.io.database: Database file opened: scoring/score_functions/hbonds/ref2015_params/HBPoly1D.csv\n",
            "basic.io.database: Database file opened: scoring/score_functions/hbonds/ref2015_params/HBFadeIntervals.csv\n",
            "basic.io.database: Database file opened: scoring/score_functions/hbonds/ref2015_params/HBEval.csv\n",
            "basic.io.database: Database file opened: scoring/score_functions/hbonds/ref2015_params/DonStrength.csv\n",
            "basic.io.database: Database file opened: scoring/score_functions/hbonds/ref2015_params/AccStrength.csv\n",
            "basic.io.database: Database file opened: scoring/score_functions/rama/fd/all.ramaProb\n",
            "basic.io.database: Database file opened: scoring/score_functions/rama/fd/prepro.ramaProb\n",
            "basic.io.database: Database file opened: scoring/score_functions/omega/omega_ppdep.all.txt\n",
            "basic.io.database: Database file opened: scoring/score_functions/omega/omega_ppdep.gly.txt\n",
            "basic.io.database: Database file opened: scoring/score_functions/omega/omega_ppdep.pro.txt\n",
            "basic.io.database: Database file opened: scoring/score_functions/omega/omega_ppdep.valile.txt\n",
            "basic.io.database: Database file opened: scoring/score_functions/P_AA_pp/P_AA\n",
            "basic.io.database: Database file opened: scoring/score_functions/P_AA_pp/P_AA_n\n",
            "core.scoring.P_AA: shapovalov_lib::shap_p_aa_pp_smooth_level of 1( aka low_smooth ) got activated.\n",
            "basic.io.database: Database file opened: scoring/score_functions/P_AA_pp/shapovalov/10deg/kappa131/a20.prop\n"
          ]
        }
      ]
    },
    {
      "cell_type": "code",
      "source": [
        "# Obtener el número de cadenas en la pose\n",
        "num_chains = pose.num_chains()\n",
        "print(f\"Number of chains in the pose: {num_chains}\")\n",
        "\n",
        "# Imprimir los identificadores de las cadenas\n",
        "for i in range(1, num_chains + 1):\n",
        "    chain_id = pose.pdb_info().chain(i)\n",
        "    print(f\"Chain {i} ID: {chain_id}\")\n",
        "\n",
        "# O bien, dividir la pose por cadenas y verificar cada una\n",
        "split_poses = pose.split_by_chain()\n",
        "for chain_num, chain_pose in enumerate(split_poses, start=1):\n",
        "    chain_id = chain_pose.pdb_info().chain(1)\n",
        "    print(f\"Chain {chain_num} ID: {chain_id}\")"
      ],
      "metadata": {
        "id": "w4cfX5B64Wma",
        "colab": {
          "base_uri": "https://localhost:8080/"
        },
        "outputId": "7efcd98b-3899-4815-f957-8d8b8becda13"
      },
      "execution_count": 4,
      "outputs": [
        {
          "output_type": "stream",
          "name": "stdout",
          "text": [
            "Number of chains in the pose: 3\n",
            "Chain 1 ID: A\n",
            "Chain 2 ID: A\n",
            "Chain 3 ID: A\n",
            "core.kinematics.FoldTree: delete_jump_seqpos: deleting jump 1\n",
            "core.kinematics.FoldTree: delete_jump_seqpos: renumbering jump 2 to 1\n",
            "core.kinematics.FoldTree: delete_jump_seqpos: deleting jump 1\n",
            "core.kinematics.FoldTree: delete_jump_seqpos: renumbering jump 2 to 1\n",
            "core.kinematics.FoldTree: delete_jump_seqpos: deleting jump 1\n",
            "core.kinematics.FoldTree: delete_jump_seqpos: renumbering jump 2 to 1\n",
            "Chain 1 ID: A\n",
            "Chain 2 ID: A\n",
            "Chain 3 ID: B\n"
          ]
        }
      ]
    },
    {
      "cell_type": "code",
      "source": [
        "xml = pyrosetta.rosetta.protocols.rosetta_scripts.XmlObjects.create_from_string(\"\"\"\n",
        "<ROSETTASCRIPTS>\n",
        "\n",
        "     <SCOREFXNS>\n",
        "        <ScoreFunction name=\"ligand_soft_rep\" weights=\"ligand_soft_rep\"/>\n",
        "        <ScoreFunction name=\"hard_rep\" weights=\"ligand\"/>\n",
        "        <ScoreFunction name=\"fa_standard\" weights=\"ref2015.wts\"/>\n",
        "    </SCOREFXNS>\n",
        "\n",
        "    <LIGAND_AREAS>\n",
        "        <LigandArea name=\"inhibitor_dock_sc_B\" chain=\"B\" cutoff=\"6.0\" add_nbr_radius=\"true\" all_atom_mode=\"false\"/>\n",
        "        <LigandArea name=\"inhibitor_final_sc_B\" chain=\"B\" cutoff=\"6.0\" add_nbr_radius=\"true\" all_atom_mode=\"false\"/>\n",
        "        <LigandArea name=\"inhibitor_final_bb_B\" chain=\"B\" cutoff=\"7.0\" add_nbr_radius=\"false\" all_atom_mode=\"true\" Calpha_restraints=\"0.3\"/>\n",
        "\n",
        "        <LigandArea name=\"inhibitor_dock_sc_C\" chain=\"C\" cutoff=\"6.0\" add_nbr_radius=\"true\" all_atom_mode=\"false\"/>\n",
        "        <LigandArea name=\"inhibitor_final_sc_C\" chain=\"C\" cutoff=\"6.0\" add_nbr_radius=\"true\" all_atom_mode=\"false\"/>\n",
        "        <LigandArea name=\"inhibitor_final_bb_C\" chain=\"C\" cutoff=\"7.0\" add_nbr_radius=\"false\" all_atom_mode=\"true\" Calpha_restraints=\"0.3\"/>\n",
        "\n",
        "         <LigandArea name=\"inhibitor_dock_sc_D\" chain=\"D\" cutoff=\"6.0\" add_nbr_radius=\"true\" all_atom_mode=\"false\"/>\n",
        "        <LigandArea name=\"inhibitor_final_sc_D\" chain=\"D\" cutoff=\"6.0\" add_nbr_radius=\"true\" all_atom_mode=\"false\"/>\n",
        "        <LigandArea name=\"inhibitor_final_bb_D\" chain=\"D\" cutoff=\"7.0\" add_nbr_radius=\"false\" all_atom_mode=\"true\" Calpha_restraints=\"0.3\"/>\n",
        "    </LIGAND_AREAS>\n",
        "\n",
        "    <INTERFACE_BUILDERS>\n",
        "        <InterfaceBuilder name=\"side_chain_for_docking_B\" ligand_areas=\"inhibitor_dock_sc_B\"/>\n",
        "        <InterfaceBuilder name=\"side_chain_for_final_B\" ligand_areas=\"inhibitor_final_sc_B\"/>\n",
        "        <InterfaceBuilder name=\"backbone_B\" ligand_areas=\"inhibitor_final_bb_B\" extension_window=\"3\"/>\n",
        "\n",
        "        <InterfaceBuilder name=\"side_chain_for_docking_C\" ligand_areas=\"inhibitor_dock_sc_C\"/>\n",
        "        <InterfaceBuilder name=\"side_chain_for_final_C\" ligand_areas=\"inhibitor_final_sc_C\"/>\n",
        "        <InterfaceBuilder name=\"backbone_C\" ligand_areas=\"inhibitor_final_bb_C\" extension_window=\"3\"/>\n",
        "\n",
        "        <InterfaceBuilder name=\"side_chain_for_docking_D\" ligand_areas=\"inhibitor_dock_sc_D\"/>\n",
        "        <InterfaceBuilder name=\"side_chain_for_final_D\" ligand_areas=\"inhibitor_final_sc_D\"/>\n",
        "        <InterfaceBuilder name=\"backbone_D\" ligand_areas=\"inhibitor_final_bb_D\" extension_window=\"3\"/>\n",
        "    </INTERFACE_BUILDERS>\n",
        "\n",
        "    <MOVEMAP_BUILDERS>\n",
        "        <MoveMapBuilder name=\"docking_B\" sc_interface=\"side_chain_for_docking_B\" minimize_water=\"false\"/>\n",
        "        <MoveMapBuilder name=\"final_B\" sc_interface=\"side_chain_for_final_B\" bb_interface=\"backbone_B\" minimize_water=\"false\"/>\n",
        "\n",
        "        <MoveMapBuilder name=\"docking_C\" sc_interface=\"side_chain_for_docking_C\" minimize_water=\"false\"/>\n",
        "        <MoveMapBuilder name=\"final_C\" sc_interface=\"side_chain_for_final_C\" bb_interface=\"backbone_C\" minimize_water=\"false\"/>\n",
        "\n",
        "        <MoveMapBuilder name=\"docking_D\" sc_interface=\"side_chain_for_docking_D\" minimize_water=\"false\"/>\n",
        "        <MoveMapBuilder name=\"final_D\" sc_interface=\"side_chain_for_final_D\" bb_interface=\"backbone_D\" minimize_water=\"false\"/>\n",
        "    </MOVEMAP_BUILDERS>\n",
        "\n",
        "    <SCORINGGRIDS width=\"15\">\n",
        "        <ClassicGrid grid_name=\"classic_B\" weight=\"3.5\"/>\n",
        "        <ClassicGrid grid_name=\"classic_C\" weight=\"3.5\"/>\n",
        "        <ClassicGrid grid_name=\"classic_D\" weight=\"3.5\"/>\n",
        "    </SCORINGGRIDS>\n",
        "\n",
        "    <MOVERS>\n",
        "        <Transform name=\"transform_B\" chain=\"B\" box_size=\"7.0\" move_distance=\"0.2\" angle=\"20\" cycles=\"30\" repeats=\"1\" temperature=\"5\"/>\n",
        "        <Transform name=\"transform_C\" chain=\"C\" box_size=\"7.0\" move_distance=\"0.2\" angle=\"20\" cycles=\"30\" repeats=\"1\" temperature=\"5\"/>\n",
        "        <Transform name=\"transform_D\" chain=\"D\" box_size=\"7.0\" move_distance=\"0.2\" angle=\"20\" cycles=\"30\" repeats=\"1\" temperature=\"5\"/>\n",
        "\n",
        "        <HighResDocker name=\"high_res_docker_B\" cycles=\"6\" repack_every_Nth=\"3\" scorefxn=\"ligand_soft_rep\" movemap_builder=\"docking_B\"/>\n",
        "        <HighResDocker name=\"high_res_docker_C\" cycles=\"6\" repack_every_Nth=\"3\" scorefxn=\"ligand_soft_rep\" movemap_builder=\"docking_C\"/>\n",
        "        <HighResDocker name=\"high_res_docker_D\" cycles=\"6\" repack_every_Nth=\"3\" scorefxn=\"ligand_soft_rep\" movemap_builder=\"docking_D\"/>\n",
        "\n",
        "        <FinalMinimizer name=\"final_B\" scorefxn=\"hard_rep\" movemap_builder=\"final_B\"/>\n",
        "        <FinalMinimizer name=\"final_C\" scorefxn=\"hard_rep\" movemap_builder=\"final_C\"/>\n",
        "        <FinalMinimizer name=\"final_D\" scorefxn=\"hard_rep\" movemap_builder=\"final_D\"/>\n",
        "\n",
        "        <InterfaceScoreCalculator name=\"add_scores_B\" chains=\"B\" scorefxn=\"hard_rep\" native='/content/drive/MyDrive/nb_caffeine_mod_for_AFL/Inputs/aftNb_start.pdb'/>\n",
        "        <InterfaceScoreCalculator name=\"add_scores_C\" chains=\"C\" scorefxn=\"hard_rep\" native='/content/drive/MyDrive/nb_caffeine_mod_for_AFL/Inputs/aftNb_start.pdb'/>\n",
        "        <InterfaceScoreCalculator name=\"add_scores_D\" chains=\"D\" scorefxn=\"hard_rep\" native='/content/drive/MyDrive/nb_caffeine_mod_for_AFL/Inputs/aftNb_start.pdb'/>\n",
        "    </MOVERS>\n",
        "\n",
        "    <PROTOCOLS>\n",
        "        <Add mover_name=\"transform_B\"/>\n",
        "        <Add mover_name=\"transform_C\"/>\n",
        "        <Add mover_name=\"transform_D\"/>\n",
        "\n",
        "        <Add mover_name=\"high_res_docker_B\"/>\n",
        "        <Add mover_name=\"high_res_docker_C\"/>\n",
        "        <Add mover_name=\"high_res_docker_B\"/>\n",
        "\n",
        "        <Add mover_name=\"final_B\"/>\n",
        "        <Add mover_name=\"final_C\"/>\n",
        "        <Add mover_name=\"final_D\"/>\n",
        "\n",
        "        <Add mover_name=\"add_scores_B\"/>\n",
        "        <Add mover_name=\"add_scores_C\"/>\n",
        "        <Add mover_name=\"add_scores_D\"/>\n",
        "    </PROTOCOLS>\n",
        "\n",
        "</ROSETTASCRIPTS>\n",
        "\n",
        "\"\"\").get_mover(\"ParsedProtocol\")"
      ],
      "metadata": {
        "colab": {
          "base_uri": "https://localhost:8080/"
        },
        "id": "TfHzdmEM8p7k",
        "outputId": "600805d0-247a-4e33-a6f7-f5d301e19e5d"
      },
      "execution_count": 18,
      "outputs": [
        {
          "output_type": "stream",
          "name": "stdout",
          "text": [
            "protocols.rosetta_scripts.RosettaScriptsParser: Validating input script...\n",
            "protocols.rosetta_scripts.RosettaScriptsParser: ...done\n",
            "protocols.rosetta_scripts.RosettaScriptsParser: Parsed script:\n",
            "<ROSETTASCRIPTS>\n",
            "\t<SCOREFXNS>\n",
            "\t\t<ScoreFunction name=\"ligand_soft_rep\" weights=\"ligand_soft_rep\"/>\n",
            "\t\t<ScoreFunction name=\"hard_rep\" weights=\"ligand\"/>\n",
            "\t\t<ScoreFunction name=\"fa_standard\" weights=\"ref2015.wts\"/>\n",
            "\t</SCOREFXNS>\n",
            "\t<LIGAND_AREAS>\n",
            "\t\t<LigandArea add_nbr_radius=\"true\" all_atom_mode=\"false\" chain=\"B\" cutoff=\"6.0\" name=\"inhibitor_dock_sc_B\"/>\n",
            "\t\t<LigandArea add_nbr_radius=\"true\" all_atom_mode=\"false\" chain=\"B\" cutoff=\"6.0\" name=\"inhibitor_final_sc_B\"/>\n",
            "\t\t<LigandArea Calpha_restraints=\"0.3\" add_nbr_radius=\"false\" all_atom_mode=\"true\" chain=\"B\" cutoff=\"7.0\" name=\"inhibitor_final_bb_B\"/>\n",
            "\t\t<LigandArea add_nbr_radius=\"true\" all_atom_mode=\"false\" chain=\"C\" cutoff=\"6.0\" name=\"inhibitor_dock_sc_C\"/>\n",
            "\t\t<LigandArea add_nbr_radius=\"true\" all_atom_mode=\"false\" chain=\"C\" cutoff=\"6.0\" name=\"inhibitor_final_sc_C\"/>\n",
            "\t\t<LigandArea Calpha_restraints=\"0.3\" add_nbr_radius=\"false\" all_atom_mode=\"true\" chain=\"C\" cutoff=\"7.0\" name=\"inhibitor_final_bb_C\"/>\n",
            "\t\t<LigandArea add_nbr_radius=\"true\" all_atom_mode=\"false\" chain=\"D\" cutoff=\"6.0\" name=\"inhibitor_dock_sc_D\"/>\n",
            "\t\t<LigandArea add_nbr_radius=\"true\" all_atom_mode=\"false\" chain=\"D\" cutoff=\"6.0\" name=\"inhibitor_final_sc_D\"/>\n",
            "\t\t<LigandArea Calpha_restraints=\"0.3\" add_nbr_radius=\"false\" all_atom_mode=\"true\" chain=\"D\" cutoff=\"7.0\" name=\"inhibitor_final_bb_D\"/>\n",
            "\t</LIGAND_AREAS>\n",
            "\t<INTERFACE_BUILDERS>\n",
            "\t\t<InterfaceBuilder ligand_areas=\"inhibitor_dock_sc_B\" name=\"side_chain_for_docking_B\"/>\n",
            "\t\t<InterfaceBuilder ligand_areas=\"inhibitor_final_sc_B\" name=\"side_chain_for_final_B\"/>\n",
            "\t\t<InterfaceBuilder extension_window=\"3\" ligand_areas=\"inhibitor_final_bb_B\" name=\"backbone_B\"/>\n",
            "\t\t<InterfaceBuilder ligand_areas=\"inhibitor_dock_sc_C\" name=\"side_chain_for_docking_C\"/>\n",
            "\t\t<InterfaceBuilder ligand_areas=\"inhibitor_final_sc_C\" name=\"side_chain_for_final_C\"/>\n",
            "\t\t<InterfaceBuilder extension_window=\"3\" ligand_areas=\"inhibitor_final_bb_C\" name=\"backbone_C\"/>\n",
            "\t\t<InterfaceBuilder ligand_areas=\"inhibitor_dock_sc_D\" name=\"side_chain_for_docking_D\"/>\n",
            "\t\t<InterfaceBuilder ligand_areas=\"inhibitor_final_sc_D\" name=\"side_chain_for_final_D\"/>\n",
            "\t\t<InterfaceBuilder extension_window=\"3\" ligand_areas=\"inhibitor_final_bb_D\" name=\"backbone_D\"/>\n",
            "\t</INTERFACE_BUILDERS>\n",
            "\t<MOVEMAP_BUILDERS>\n",
            "\t\t<MoveMapBuilder minimize_water=\"false\" name=\"docking_B\" sc_interface=\"side_chain_for_docking_B\"/>\n",
            "\t\t<MoveMapBuilder bb_interface=\"backbone_B\" minimize_water=\"false\" name=\"final_B\" sc_interface=\"side_chain_for_final_B\"/>\n",
            "\t\t<MoveMapBuilder minimize_water=\"false\" name=\"docking_C\" sc_interface=\"side_chain_for_docking_C\"/>\n",
            "\t\t<MoveMapBuilder bb_interface=\"backbone_C\" minimize_water=\"false\" name=\"final_C\" sc_interface=\"side_chain_for_final_C\"/>\n",
            "\t\t<MoveMapBuilder minimize_water=\"false\" name=\"docking_D\" sc_interface=\"side_chain_for_docking_D\"/>\n",
            "\t\t<MoveMapBuilder bb_interface=\"backbone_D\" minimize_water=\"false\" name=\"final_D\" sc_interface=\"side_chain_for_final_D\"/>\n",
            "\t</MOVEMAP_BUILDERS>\n",
            "\t<SCORINGGRIDS width=\"15\">\n",
            "\t\t<ClassicGrid grid_name=\"classic_B\" weight=\"3.5\"/>\n",
            "\t\t<ClassicGrid grid_name=\"classic_C\" weight=\"3.5\"/>\n",
            "\t\t<ClassicGrid grid_name=\"classic_D\" weight=\"3.5\"/>\n",
            "\t</SCORINGGRIDS>\n",
            "\t<MOVERS>\n",
            "\t\t<Transform angle=\"20\" box_size=\"7.0\" chain=\"B\" cycles=\"30\" move_distance=\"0.2\" name=\"transform_B\" repeats=\"1\" temperature=\"5\"/>\n",
            "\t\t<Transform angle=\"20\" box_size=\"7.0\" chain=\"C\" cycles=\"30\" move_distance=\"0.2\" name=\"transform_C\" repeats=\"1\" temperature=\"5\"/>\n",
            "\t\t<Transform angle=\"20\" box_size=\"7.0\" chain=\"D\" cycles=\"30\" move_distance=\"0.2\" name=\"transform_D\" repeats=\"1\" temperature=\"5\"/>\n",
            "\t\t<HighResDocker cycles=\"6\" movemap_builder=\"docking_B\" name=\"high_res_docker_B\" repack_every_Nth=\"3\" scorefxn=\"ligand_soft_rep\"/>\n",
            "\t\t<HighResDocker cycles=\"6\" movemap_builder=\"docking_C\" name=\"high_res_docker_C\" repack_every_Nth=\"3\" scorefxn=\"ligand_soft_rep\"/>\n",
            "\t\t<HighResDocker cycles=\"6\" movemap_builder=\"docking_D\" name=\"high_res_docker_D\" repack_every_Nth=\"3\" scorefxn=\"ligand_soft_rep\"/>\n",
            "\t\t<FinalMinimizer movemap_builder=\"final_B\" name=\"final_B\" scorefxn=\"hard_rep\"/>\n",
            "\t\t<FinalMinimizer movemap_builder=\"final_C\" name=\"final_C\" scorefxn=\"hard_rep\"/>\n",
            "\t\t<FinalMinimizer movemap_builder=\"final_D\" name=\"final_D\" scorefxn=\"hard_rep\"/>\n",
            "\t\t<InterfaceScoreCalculator chains=\"B\" name=\"add_scores_B\" native=\"/content/drive/MyDrive/nb_caffeine_mod_for_AFL/Inputs/aftNb_start.pdb\" scorefxn=\"hard_rep\"/>\n",
            "\t\t<InterfaceScoreCalculator chains=\"C\" name=\"add_scores_C\" native=\"/content/drive/MyDrive/nb_caffeine_mod_for_AFL/Inputs/aftNb_start.pdb\" scorefxn=\"hard_rep\"/>\n",
            "\t\t<InterfaceScoreCalculator chains=\"D\" name=\"add_scores_D\" native=\"/content/drive/MyDrive/nb_caffeine_mod_for_AFL/Inputs/aftNb_start.pdb\" scorefxn=\"hard_rep\"/>\n",
            "\t</MOVERS>\n",
            "\t<PROTOCOLS>\n",
            "\t\t<Add mover_name=\"transform_B\"/>\n",
            "\t\t<Add mover_name=\"transform_C\"/>\n",
            "\t\t<Add mover_name=\"transform_D\"/>\n",
            "\t\t<Add mover_name=\"high_res_docker_B\"/>\n",
            "\t\t<Add mover_name=\"high_res_docker_C\"/>\n",
            "\t\t<Add mover_name=\"high_res_docker_B\"/>\n",
            "\t\t<Add mover_name=\"final_B\"/>\n",
            "\t\t<Add mover_name=\"final_C\"/>\n",
            "\t\t<Add mover_name=\"final_D\"/>\n",
            "\t\t<Add mover_name=\"add_scores_B\"/>\n",
            "\t\t<Add mover_name=\"add_scores_C\"/>\n",
            "\t\t<Add mover_name=\"add_scores_D\"/>\n",
            "\t</PROTOCOLS>\n",
            "</ROSETTASCRIPTS>\n",
            "core.scoring.ScoreFunctionFactory: SCOREFUNCTION: ref2015\n",
            "protocols.jd2.parser.ScoreFunctionLoader: defined score function \"ligand_soft_rep\" with weights \"ligand_soft_rep\"\n",
            "protocols.jd2.parser.ScoreFunctionLoader: defined score function \"hard_rep\" with weights \"ligand\"\n",
            "protocols.jd2.parser.ScoreFunctionLoader: defined score function \"fa_standard\" with weights \"ref2015.wts\"\n",
            "protocols.rosetta_scripts.RosettaScriptsParser: Defined mover named \"transform_B\" of type Transform\n",
            "protocols.rosetta_scripts.RosettaScriptsParser: Defined mover named \"transform_C\" of type Transform\n",
            "protocols.rosetta_scripts.RosettaScriptsParser: Defined mover named \"transform_D\" of type Transform\n",
            "protocols.ligand_docking.ligand_options.Protocol: Initializing options:\n",
            "protocols.ligand_docking.ligand_options.Protocol: allow_minimization_: 1\n",
            "protocols.ligand_docking.ligand_options.Protocol: allow_repacking_: 1\n",
            "protocols.ligand_docking.ligand_options.Protocol: all_residues_: 0\n",
            "protocols.rosetta_scripts.RosettaScriptsParser: Defined mover named \"high_res_docker_B\" of type HighResDocker\n",
            "protocols.ligand_docking.ligand_options.Protocol: Initializing options:\n",
            "protocols.ligand_docking.ligand_options.Protocol: allow_minimization_: 1\n",
            "protocols.ligand_docking.ligand_options.Protocol: allow_repacking_: 1\n",
            "protocols.ligand_docking.ligand_options.Protocol: all_residues_: 0\n",
            "protocols.rosetta_scripts.RosettaScriptsParser: Defined mover named \"high_res_docker_C\" of type HighResDocker\n",
            "protocols.ligand_docking.ligand_options.Protocol: Initializing options:\n",
            "protocols.ligand_docking.ligand_options.Protocol: allow_minimization_: 1\n",
            "protocols.ligand_docking.ligand_options.Protocol: allow_repacking_: 1\n",
            "protocols.ligand_docking.ligand_options.Protocol: all_residues_: 0\n",
            "protocols.rosetta_scripts.RosettaScriptsParser: Defined mover named \"high_res_docker_D\" of type HighResDocker\n",
            "protocols.rosetta_scripts.RosettaScriptsParser: Defined mover named \"final_B\" of type FinalMinimizer\n",
            "protocols.rosetta_scripts.RosettaScriptsParser: Defined mover named \"final_C\" of type FinalMinimizer\n",
            "protocols.rosetta_scripts.RosettaScriptsParser: Defined mover named \"final_D\" of type FinalMinimizer\n",
            "core.import_pose.import_pose: File '/content/drive/MyDrive/nb_caffeine_mod_for_AFL/Inputs/aftNb_start.pdb' automatically determined to be of type PDB\n",
            "core.io.pose_from_sfr.PoseFromSFRBuilder: [ WARNING ] discarding 12 atoms at position 121 in file /content/drive/MyDrive/nb_caffeine_mod_for_AFL/Inputs/aftNb_start.pdb. Best match rsd_type:  pdb_AFT\n",
            "core.conformation.Conformation: [ WARNING ] missing heavyatom:  OXT on residue VAL:CtermProteinFull 238\n",
            "protocols.rosetta_scripts.RosettaScriptsParser: Defined mover named \"add_scores_B\" of type InterfaceScoreCalculator\n",
            "core.import_pose.import_pose: File '/content/drive/MyDrive/nb_caffeine_mod_for_AFL/Inputs/aftNb_start.pdb' automatically determined to be of type PDB\n",
            "core.io.pose_from_sfr.PoseFromSFRBuilder: [ WARNING ] discarding 12 atoms at position 121 in file /content/drive/MyDrive/nb_caffeine_mod_for_AFL/Inputs/aftNb_start.pdb. Best match rsd_type:  pdb_AFT\n",
            "core.conformation.Conformation: [ WARNING ] missing heavyatom:  OXT on residue VAL:CtermProteinFull 238\n",
            "protocols.rosetta_scripts.RosettaScriptsParser: Defined mover named \"add_scores_C\" of type InterfaceScoreCalculator\n",
            "core.import_pose.import_pose: File '/content/drive/MyDrive/nb_caffeine_mod_for_AFL/Inputs/aftNb_start.pdb' automatically determined to be of type PDB\n",
            "core.io.pose_from_sfr.PoseFromSFRBuilder: [ WARNING ] discarding 12 atoms at position 121 in file /content/drive/MyDrive/nb_caffeine_mod_for_AFL/Inputs/aftNb_start.pdb. Best match rsd_type:  pdb_AFT\n",
            "core.conformation.Conformation: [ WARNING ] missing heavyatom:  OXT on residue VAL:CtermProteinFull 238\n",
            "protocols.rosetta_scripts.RosettaScriptsParser: Defined mover named \"add_scores_D\" of type InterfaceScoreCalculator\n",
            "protocols.rosetta_scripts.ParsedProtocol: ParsedProtocol mover with the following settings\n",
            "protocols.rosetta_scripts.ParsedProtocol: Added mover \"transform_B\"\n",
            "protocols.rosetta_scripts.ParsedProtocol: Added mover \"transform_C\"\n",
            "protocols.rosetta_scripts.ParsedProtocol: Added mover \"transform_D\"\n",
            "protocols.rosetta_scripts.ParsedProtocol: Added mover \"high_res_docker_B\"\n",
            "protocols.ligand_docking.ligand_options.Protocol: Initializing options:\n",
            "protocols.ligand_docking.ligand_options.Protocol: allow_minimization_: 1\n",
            "protocols.ligand_docking.ligand_options.Protocol: allow_repacking_: 1\n",
            "protocols.ligand_docking.ligand_options.Protocol: all_residues_: 0\n",
            "protocols.rosetta_scripts.ParsedProtocol: Added mover \"high_res_docker_C\"\n",
            "protocols.ligand_docking.ligand_options.Protocol: Initializing options:\n",
            "protocols.ligand_docking.ligand_options.Protocol: allow_minimization_: 1\n",
            "protocols.ligand_docking.ligand_options.Protocol: allow_repacking_: 1\n",
            "protocols.ligand_docking.ligand_options.Protocol: all_residues_: 0\n",
            "protocols.rosetta_scripts.ParsedProtocol: Added mover \"high_res_docker_B\"\n",
            "protocols.ligand_docking.ligand_options.Protocol: Initializing options:\n",
            "protocols.ligand_docking.ligand_options.Protocol: allow_minimization_: 1\n",
            "protocols.ligand_docking.ligand_options.Protocol: allow_repacking_: 1\n",
            "protocols.ligand_docking.ligand_options.Protocol: all_residues_: 0\n",
            "protocols.rosetta_scripts.ParsedProtocol: Added mover \"final_B\"\n",
            "protocols.rosetta_scripts.ParsedProtocol: Added mover \"final_C\"\n",
            "protocols.rosetta_scripts.ParsedProtocol: Added mover \"final_D\"\n",
            "protocols.rosetta_scripts.ParsedProtocol: Added mover \"add_scores_B\"\n",
            "protocols.rosetta_scripts.ParsedProtocol: Added mover \"add_scores_C\"\n",
            "protocols.rosetta_scripts.ParsedProtocol: Added mover \"add_scores_D\"\n"
          ]
        }
      ]
    },
    {
      "cell_type": "code",
      "source": [
        "if not os.getenv(\"DEBUG\"):\n",
        "    working_dir = os.getcwd()\n",
        "    output_dir = \"outputs\"\n",
        "    if not os.path.exists(output_dir):\n",
        "        os.mkdir(output_dir)\n",
        "    os.chdir(output_dir)\n",
        "\n",
        "    jd = pyrosetta.toolbox.py_jobdistributor.PyJobDistributor(pdb_name=\"test_lig_XMLObjects\",\n",
        "                                                              nstruct=5,\n",
        "                                                              scorefxn=scorefxn)\n",
        "    jd.native_pose = pose\n",
        "    df = pd.DataFrame()\n",
        "    while not jd.job_complete:\n",
        "        test_pose = pose.clone()\n",
        "        xml.apply(test_pose)\n",
        "        test_df = pd.DataFrame.from_records(dict(test_pose.scores), index=[jd.current_name])\n",
        "        df = pd.concat([df, test_df])\n",
        "        jd.output_decoy(test_pose)\n",
        "    os.chdir(working_dir)\n"
      ],
      "metadata": {
        "colab": {
          "base_uri": "https://localhost:8080/",
          "height": 356
        },
        "id": "dnUBBBL1OjPn",
        "outputId": "ea196c87-e16a-4c9c-d0c2-5fb10e716834"
      },
      "execution_count": 19,
      "outputs": [
        {
          "output_type": "error",
          "ename": "KeyboardInterrupt",
          "evalue": "",
          "traceback": [
            "\u001b[0;31m---------------------------------------------------------------------------\u001b[0m",
            "\u001b[0;31mKeyboardInterrupt\u001b[0m                         Traceback (most recent call last)",
            "\u001b[0;32m<ipython-input-19-58f77424eac4>\u001b[0m in \u001b[0;36m<cell line: 1>\u001b[0;34m()\u001b[0m\n\u001b[1;32m      6\u001b[0m     \u001b[0mos\u001b[0m\u001b[0;34m.\u001b[0m\u001b[0mchdir\u001b[0m\u001b[0;34m(\u001b[0m\u001b[0moutput_dir\u001b[0m\u001b[0;34m)\u001b[0m\u001b[0;34m\u001b[0m\u001b[0;34m\u001b[0m\u001b[0m\n\u001b[1;32m      7\u001b[0m \u001b[0;34m\u001b[0m\u001b[0m\n\u001b[0;32m----> 8\u001b[0;31m     jd = pyrosetta.toolbox.py_jobdistributor.PyJobDistributor(pdb_name=\"test_lig_XMLObjects\",\n\u001b[0m\u001b[1;32m      9\u001b[0m                                                               \u001b[0mnstruct\u001b[0m\u001b[0;34m=\u001b[0m\u001b[0;36m5\u001b[0m\u001b[0;34m,\u001b[0m\u001b[0;34m\u001b[0m\u001b[0;34m\u001b[0m\u001b[0m\n\u001b[1;32m     10\u001b[0m                                                               scorefxn=scorefxn)\n",
            "\u001b[0;32m/usr/local/lib/python3.10/dist-packages/pyrosetta/toolbox/py_jobdistributor.py\u001b[0m in \u001b[0;36m__init__\u001b[0;34m(self, pdb_name, nstruct, scorefxn, compress)\u001b[0m\n\u001b[1;32m     72\u001b[0m         \u001b[0mself\u001b[0m\u001b[0;34m.\u001b[0m\u001b[0msequence\u001b[0m \u001b[0;34m=\u001b[0m \u001b[0mlist\u001b[0m\u001b[0;34m(\u001b[0m\u001b[0mrange\u001b[0m\u001b[0;34m(\u001b[0m\u001b[0mnstruct\u001b[0m\u001b[0;34m)\u001b[0m\u001b[0;34m)\u001b[0m\u001b[0;34m\u001b[0m\u001b[0;34m\u001b[0m\u001b[0m\n\u001b[1;32m     73\u001b[0m         \u001b[0mrandom\u001b[0m\u001b[0;34m.\u001b[0m\u001b[0mshuffle\u001b[0m\u001b[0;34m(\u001b[0m\u001b[0mself\u001b[0m\u001b[0;34m.\u001b[0m\u001b[0msequence\u001b[0m\u001b[0;34m)\u001b[0m\u001b[0;34m\u001b[0m\u001b[0;34m\u001b[0m\u001b[0m\n\u001b[0;32m---> 74\u001b[0;31m         \u001b[0mself\u001b[0m\u001b[0;34m.\u001b[0m\u001b[0mstart_decoy\u001b[0m\u001b[0;34m(\u001b[0m\u001b[0;34m)\u001b[0m                \u001b[0;31m# Initializes the job distributor\u001b[0m\u001b[0;34m\u001b[0m\u001b[0;34m\u001b[0m\u001b[0m\n\u001b[0m\u001b[1;32m     75\u001b[0m \u001b[0;34m\u001b[0m\u001b[0m\n\u001b[1;32m     76\u001b[0m     \u001b[0;34m@\u001b[0m\u001b[0mproperty\u001b[0m\u001b[0;34m\u001b[0m\u001b[0;34m\u001b[0m\u001b[0m\n",
            "\u001b[0;32m/usr/local/lib/python3.10/dist-packages/pyrosetta/toolbox/py_jobdistributor.py\u001b[0m in \u001b[0;36mstart_decoy\u001b[0;34m(self)\u001b[0m\n\u001b[1;32m     85\u001b[0m             \u001b[0mself\u001b[0m\u001b[0;34m.\u001b[0m\u001b[0mcurrent_in_progress_name\u001b[0m \u001b[0;34m=\u001b[0m \u001b[0mself\u001b[0m\u001b[0;34m.\u001b[0m\u001b[0mcurrent_name\u001b[0m \u001b[0;34m+\u001b[0m \u001b[0;34m\".in_progress\"\u001b[0m\u001b[0;34m\u001b[0m\u001b[0;34m\u001b[0m\u001b[0m\n\u001b[1;32m     86\u001b[0m \u001b[0;34m\u001b[0m\u001b[0m\n\u001b[0;32m---> 87\u001b[0;31m             \u001b[0;32mif\u001b[0m \u001b[0;34m(\u001b[0m\u001b[0;32mnot\u001b[0m \u001b[0mos\u001b[0m\u001b[0;34m.\u001b[0m\u001b[0mpath\u001b[0m\u001b[0;34m.\u001b[0m\u001b[0misfile\u001b[0m\u001b[0;34m(\u001b[0m\u001b[0mself\u001b[0m\u001b[0;34m.\u001b[0m\u001b[0mcurrent_name\u001b[0m\u001b[0;34m)\u001b[0m\u001b[0;34m)\u001b[0m \u001b[0;32mand\u001b[0m \u001b[0;34m(\u001b[0m\u001b[0;32mnot\u001b[0m \u001b[0mos\u001b[0m\u001b[0;34m.\u001b[0m\u001b[0mpath\u001b[0m\u001b[0;34m.\u001b[0m\u001b[0misfile\u001b[0m\u001b[0;34m(\u001b[0m\u001b[0mself\u001b[0m\u001b[0;34m.\u001b[0m\u001b[0mcurrent_in_progress_name\u001b[0m\u001b[0;34m)\u001b[0m\u001b[0;34m)\u001b[0m\u001b[0;34m:\u001b[0m\u001b[0;34m\u001b[0m\u001b[0;34m\u001b[0m\u001b[0m\n\u001b[0m\u001b[1;32m     88\u001b[0m                 \u001b[0;32mwith\u001b[0m \u001b[0mopen\u001b[0m\u001b[0;34m(\u001b[0m\u001b[0mself\u001b[0m\u001b[0;34m.\u001b[0m\u001b[0mcurrent_in_progress_name\u001b[0m\u001b[0;34m,\u001b[0m \u001b[0;34m\"w\"\u001b[0m\u001b[0;34m)\u001b[0m \u001b[0;32mas\u001b[0m \u001b[0mf\u001b[0m\u001b[0;34m:\u001b[0m\u001b[0;34m\u001b[0m\u001b[0;34m\u001b[0m\u001b[0m\n\u001b[1;32m     89\u001b[0m                     \u001b[0mf\u001b[0m\u001b[0;34m.\u001b[0m\u001b[0mwrite\u001b[0m\u001b[0;34m(\u001b[0m\u001b[0;34m\"This decoy is in progress.\"\u001b[0m\u001b[0;34m)\u001b[0m\u001b[0;34m\u001b[0m\u001b[0;34m\u001b[0m\u001b[0m\n",
            "\u001b[0;32m/usr/lib/python3.10/genericpath.py\u001b[0m in \u001b[0;36misfile\u001b[0;34m(path)\u001b[0m\n\u001b[1;32m     28\u001b[0m     \u001b[0;34m\"\"\"Test whether a path is a regular file\"\"\"\u001b[0m\u001b[0;34m\u001b[0m\u001b[0;34m\u001b[0m\u001b[0m\n\u001b[1;32m     29\u001b[0m     \u001b[0;32mtry\u001b[0m\u001b[0;34m:\u001b[0m\u001b[0;34m\u001b[0m\u001b[0;34m\u001b[0m\u001b[0m\n\u001b[0;32m---> 30\u001b[0;31m         \u001b[0mst\u001b[0m \u001b[0;34m=\u001b[0m \u001b[0mos\u001b[0m\u001b[0;34m.\u001b[0m\u001b[0mstat\u001b[0m\u001b[0;34m(\u001b[0m\u001b[0mpath\u001b[0m\u001b[0;34m)\u001b[0m\u001b[0;34m\u001b[0m\u001b[0;34m\u001b[0m\u001b[0m\n\u001b[0m\u001b[1;32m     31\u001b[0m     \u001b[0;32mexcept\u001b[0m \u001b[0;34m(\u001b[0m\u001b[0mOSError\u001b[0m\u001b[0;34m,\u001b[0m \u001b[0mValueError\u001b[0m\u001b[0;34m)\u001b[0m\u001b[0;34m:\u001b[0m\u001b[0;34m\u001b[0m\u001b[0;34m\u001b[0m\u001b[0m\n\u001b[1;32m     32\u001b[0m         \u001b[0;32mreturn\u001b[0m \u001b[0;32mFalse\u001b[0m\u001b[0;34m\u001b[0m\u001b[0;34m\u001b[0m\u001b[0m\n",
            "\u001b[0;31mKeyboardInterrupt\u001b[0m: "
          ]
        }
      ]
    }
  ]
}