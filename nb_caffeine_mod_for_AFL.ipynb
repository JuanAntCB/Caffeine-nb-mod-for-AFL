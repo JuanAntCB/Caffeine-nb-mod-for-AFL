{
  "nbformat": 4,
  "nbformat_minor": 0,
  "metadata": {
    "colab": {
      "provenance": [],
      "authorship_tag": "ABX9TyOmXULLc2cLvC2F2BHWEHQb",
      "include_colab_link": true
    },
    "kernelspec": {
      "name": "python3",
      "display_name": "Python 3"
    },
    "language_info": {
      "name": "python"
    }
  },
  "cells": [
    {
      "cell_type": "markdown",
      "metadata": {
        "id": "view-in-github",
        "colab_type": "text"
      },
      "source": [
        "<a href=\"https://colab.research.google.com/github/JuanAntCB/Caffeine-nb-mod-for-AFL/blob/main/nb_caffeine_mod_for_AFL.ipynb\" target=\"_parent\"><img src=\"https://colab.research.google.com/assets/colab-badge.svg\" alt=\"Open In Colab\"/></a>"
      ]
    },
    {
      "cell_type": "code",
      "source": [
        "!pip install pyrosettacolabsetup\n",
        "import pyrosettacolabsetup; pyrosettacolabsetup.install_pyrosetta()\n",
        "import pyrosetta; pyrosetta.init()\n",
        "from pyrosetta import *\n",
        "init()"
      ],
      "metadata": {
        "colab": {
          "base_uri": "https://localhost:8080/"
        },
        "id": "snzUENFAbaeM",
        "outputId": "2e2acc76-fc03-4ec1-fa4c-4731295869c5"
      },
      "execution_count": null,
      "outputs": [
        {
          "output_type": "stream",
          "name": "stdout",
          "text": [
            "Requirement already satisfied: pyrosettacolabsetup in /usr/local/lib/python3.10/dist-packages (1.0.9)\n",
            "PyRosetta-4 2023 [Rosetta PyRosetta4.MinSizeRel.python310.ubuntu 2024.01+release.00b79147e63be743438188f93a3f069ca75106d6 2023-12-25T16:35:48] retrieved from: http://www.pyrosetta.org\n",
            "(C) Copyright Rosetta Commons Member Institutions. Created in JHU by Sergey Lyskov and PyRosetta Team.\n",
            "core.init: Checking for fconfig files in pwd and ./rosetta/flags\n",
            "core.init: Rosetta version: PyRosetta4.MinSizeRel.python310.ubuntu r366 2024.01+release.00b79147e63 00b79147e63be743438188f93a3f069ca75106d6 http://www.pyrosetta.org 2023-12-25T16:35:48\n",
            "core.init: command: PyRosetta -ex1 -ex2aro -database /usr/local/lib/python3.10/dist-packages/pyrosetta/database\n",
            "basic.random.init_random_generator: 'RNG device' seed mode, using '/dev/urandom', seed=2138061889 seed_offset=0 real_seed=2138061889\n",
            "basic.random.init_random_generator: RandomGenerator:init: Normal mode, seed=2138061889 RG_type=mt19937\n",
            "PyRosetta-4 2023 [Rosetta PyRosetta4.MinSizeRel.python310.ubuntu 2024.01+release.00b79147e63be743438188f93a3f069ca75106d6 2023-12-25T16:35:48] retrieved from: http://www.pyrosetta.org\n",
            "(C) Copyright Rosetta Commons Member Institutions. Created in JHU by Sergey Lyskov and PyRosetta Team.\n",
            "core.init: Checking for fconfig files in pwd and ./rosetta/flags\n",
            "core.init: Rosetta version: PyRosetta4.MinSizeRel.python310.ubuntu r366 2024.01+release.00b79147e63 00b79147e63be743438188f93a3f069ca75106d6 http://www.pyrosetta.org 2023-12-25T16:35:48\n",
            "core.init: command: PyRosetta -ex1 -ex2aro -database /usr/local/lib/python3.10/dist-packages/pyrosetta/database\n",
            "basic.random.init_random_generator: 'RNG device' seed mode, using '/dev/urandom', seed=1760689436 seed_offset=0 real_seed=1760689436\n",
            "basic.random.init_random_generator: RandomGenerator:init: Normal mode, seed=1760689436 RG_type=mt19937\n"
          ]
        }
      ]
    },
    {
      "cell_type": "code",
      "source": [
        "from google.colab import drive\n",
        "import os\n",
        "\n",
        "drive.flush_and_unmount()\n",
        "\n",
        "drive.mount('/content/drive')\n",
        "\n",
        "path = '/content/drive/MyDrive/prueba/Inputs/8ftg.pdb'\n"
      ],
      "metadata": {
        "id": "5EC-CS--cFRG",
        "colab": {
          "base_uri": "https://localhost:8080/"
        },
        "outputId": "1e1a1fcc-ace6-4a76-ec1c-8ce3628e0012"
      },
      "execution_count": 25,
      "outputs": [
        {
          "output_type": "stream",
          "name": "stdout",
          "text": [
            "Mounted at /content/drive\n"
          ]
        }
      ]
    },
    {
      "cell_type": "code",
      "source": [
        "pose = pose_from_pdb(path)"
      ],
      "metadata": {
        "id": "2wK7CNpCciw5",
        "colab": {
          "base_uri": "https://localhost:8080/"
        },
        "outputId": "cd336da1-6750-490e-c23a-e25a92b651df"
      },
      "execution_count": 26,
      "outputs": [
        {
          "output_type": "stream",
          "name": "stdout",
          "text": [
            "core.import_pose.import_pose: File '/content/drive/MyDrive/prueba/Inputs/8ftg.pdb' automatically determined to be of type PDB\n",
            "core.chemical.GlobalResidueTypeSet: Loading (but possibly not actually using) 'CFF' from the PDB components dictionary for residue type 'pdb_CFF'\n",
            "core.chemical.GlobalResidueTypeSet: Loading (but possibly not actually using) 'TRS' from the PDB components dictionary for residue type 'pdb_TRS'\n",
            "core.chemical.GlobalResidueTypeSet: Loading (but possibly not actually using) 'CL' from the PDB components dictionary for residue type 'pdb_CL'\n",
            "core.io.pose_from_sfr.PoseFromSFRBuilder: [ WARNING ] discarding 3 atoms at position 944 in file /content/drive/MyDrive/prueba/Inputs/8ftg.pdb. Best match rsd_type:  GLY:NtermProteinFull\n",
            "core.io.pose_from_sfr.PoseFromSFRBuilder: [ WARNING ] discarding 3 atoms at position 1196 in file /content/drive/MyDrive/prueba/Inputs/8ftg.pdb. Best match rsd_type:  GLY:NtermProteinFull\n",
            "core.io.pose_from_sfr.PoseFromSFRBuilder: [ WARNING ] discarding 3 atoms at position 1434 in file /content/drive/MyDrive/prueba/Inputs/8ftg.pdb. Best match rsd_type:  GLY:NtermProteinFull\n",
            "core.conformation.Conformation: [ WARNING ] missing heavyatom:  OXT on residue VAL:CtermProteinFull 237\n",
            "core.conformation.Conformation: [ WARNING ] missing heavyatom:  OXT on residue SER:CtermProteinFull 356\n",
            "core.conformation.Conformation: [ WARNING ] missing heavyatom:  OXT on residue SER:CtermProteinFull 717\n",
            "core.conformation.Conformation: [ WARNING ] missing heavyatom:  OXT on residue VAL:CtermProteinFull 835\n",
            "core.conformation.Conformation: [ WARNING ] missing heavyatom:  OXT on residue SER:CtermProteinFull 955\n"
          ]
        }
      ]
    }
  ]
}