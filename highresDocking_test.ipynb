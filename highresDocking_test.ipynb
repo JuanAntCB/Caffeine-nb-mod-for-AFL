{
  "nbformat": 4,
  "nbformat_minor": 0,
  "metadata": {
    "colab": {
      "provenance": [],
      "authorship_tag": "ABX9TyOsWscZIm3yZJTzFUyivQBA",
      "include_colab_link": true
    },
    "kernelspec": {
      "name": "python3",
      "display_name": "Python 3"
    },
    "language_info": {
      "name": "python"
    }
  },
  "cells": [
    {
      "cell_type": "markdown",
      "metadata": {
        "id": "view-in-github",
        "colab_type": "text"
      },
      "source": [
        "<a href=\"https://colab.research.google.com/github/JuanAntCB/Caffeine-nb-mod-for-AFL/blob/main/highresDocking_test.ipynb\" target=\"_parent\"><img src=\"https://colab.research.google.com/assets/colab-badge.svg\" alt=\"Open In Colab\"/></a>"
      ]
    },
    {
      "cell_type": "markdown",
      "source": [
        "Using material from https://github.com/RosettaCommons/PyRosetta.notebooks/blob/master/student-notebooks/08.01-Ligand-Docking-XMLObjects.ipynb\n"
      ],
      "metadata": {
        "id": "4MDAdlxsHfa6"
      }
    },
    {
      "cell_type": "code",
      "source": [
        "!pip install pyrosettacolabsetup\n",
        "import pyrosettacolabsetup; pyrosettacolabsetup.install_pyrosetta()\n",
        "import pyrosetta; pyrosetta.init()\n",
        "from pyrosetta import *\n",
        "import sys\n",
        "import matplotlib\n",
        "init()"
      ],
      "metadata": {
        "colab": {
          "base_uri": "https://localhost:8080/"
        },
        "id": "_PkcATf2HdQM",
        "outputId": "864c5485-5e8e-4a5e-9377-ebcf52e98ce8"
      },
      "execution_count": 5,
      "outputs": [
        {
          "output_type": "stream",
          "name": "stdout",
          "text": [
            "Requirement already satisfied: pyrosettacolabsetup in /usr/local/lib/python3.10/dist-packages (1.0.9)\n",
            "PyRosetta-4 2023 [Rosetta PyRosetta4.MinSizeRel.python310.ubuntu 2023.20+release.dbbb5449bf9583f5b8d8f4151636d460bbeedba3 2023-05-16T11:06:33] retrieved from: http://www.pyrosetta.org\n",
            "(C) Copyright Rosetta Commons Member Institutions. Created in JHU by Sergey Lyskov and PyRosetta Team.\n",
            "core.init: Checking for fconfig files in pwd and ./rosetta/flags\n",
            "core.init: Rosetta version: PyRosetta4.MinSizeRel.python310.ubuntu r349 2023.20+release.dbbb5449bf9 dbbb5449bf9583f5b8d8f4151636d460bbeedba3 http://www.pyrosetta.org 2023-05-16T11:06:33\n",
            "core.init: command: PyRosetta -ex1 -ex2aro -database /usr/local/lib/python3.10/dist-packages/pyrosetta/database\n",
            "basic.random.init_random_generator: 'RNG device' seed mode, using '/dev/urandom', seed=-980634811 seed_offset=0 real_seed=-980634811\n",
            "basic.random.init_random_generator: RandomGenerator:init: Normal mode, seed=-980634811 RG_type=mt19937\n",
            "PyRosetta-4 2023 [Rosetta PyRosetta4.MinSizeRel.python310.ubuntu 2023.20+release.dbbb5449bf9583f5b8d8f4151636d460bbeedba3 2023-05-16T11:06:33] retrieved from: http://www.pyrosetta.org\n",
            "(C) Copyright Rosetta Commons Member Institutions. Created in JHU by Sergey Lyskov and PyRosetta Team.\n",
            "core.init: Checking for fconfig files in pwd and ./rosetta/flags\n",
            "core.init: Rosetta version: PyRosetta4.MinSizeRel.python310.ubuntu r349 2023.20+release.dbbb5449bf9 dbbb5449bf9583f5b8d8f4151636d460bbeedba3 http://www.pyrosetta.org 2023-05-16T11:06:33\n",
            "core.init: command: PyRosetta -ex1 -ex2aro -database /usr/local/lib/python3.10/dist-packages/pyrosetta/database\n",
            "basic.random.init_random_generator: 'RNG device' seed mode, using '/dev/urandom', seed=-1847676473 seed_offset=0 real_seed=-1847676473\n",
            "basic.random.init_random_generator: RandomGenerator:init: Normal mode, seed=-1847676473 RG_type=mt19937\n"
          ]
        }
      ]
    },
    {
      "cell_type": "code",
      "source": [
        "from google.colab import drive\n",
        "import os\n",
        "\n",
        "drive.flush_and_unmount()\n",
        "\n",
        "drive.mount('/content/drive')\n",
        "\n",
        "path = '/content/drive/MyDrive/nb_caffeine_mod_for_AFL/Inputs/aftNb_start.pdb'\n",
        "path_aft = '/content/drive/MyDrive/nb_caffeine_mod_for_AFL/Inputs/aft.sdf'\n",
        "path_params = '/content/drive/MyDrive/nb_caffeine_mod_for_AFL/Inputs/AFT.params'\n",
        "drive_path = '/content/drive/MyDrive/nb_caffeine_mod_for_AFL/Inputs'\n"
      ],
      "metadata": {
        "colab": {
          "base_uri": "https://localhost:8080/"
        },
        "id": "bsawqy5_KpNb",
        "outputId": "dada4bb4-c7ba-4e18-f1a9-d4cb675de413"
      },
      "execution_count": 6,
      "outputs": [
        {
          "output_type": "stream",
          "name": "stdout",
          "text": [
            "Mounted at /content/drive\n"
          ]
        }
      ]
    },
    {
      "cell_type": "code",
      "source": [
        "ligand_params = path_params\n",
        "flags = f\"\"\"\n",
        "-ignore_unrecognized_res 1\n",
        "-extra_res_fa {ligand_params}\n",
        "\"\"\"\n",
        "pyrosetta.distributed.init(flags)\n",
        "pose = pyrosetta.io.pose_from_file(path)\n",
        "scorefxn = pyrosetta.create_score_function(\"ref2015\")"
      ],
      "metadata": {
        "colab": {
          "base_uri": "https://localhost:8080/"
        },
        "id": "Uj6V1dF_K1GY",
        "outputId": "76c5ff4c-b483-444d-ced6-e2994739102c"
      },
      "execution_count": 9,
      "outputs": [
        {
          "output_type": "stream",
          "name": "stdout",
          "text": [
            "core.import_pose.import_pose: File '/content/drive/MyDrive/nb_caffeine_mod_for_AFL/Inputs/aftNb_start.pdb' automatically determined to be of type PDB\n",
            "core.chemical.GlobalResidueTypeSet: Loading (but possibly not actually using) 'AFT' from the PDB components dictionary for residue type 'pdb_AFT'\n",
            "core.io.pose_from_sfr.PoseFromSFRBuilder: [ WARNING ] discarding 12 atoms at position 121 in file /content/drive/MyDrive/nb_caffeine_mod_for_AFL/Inputs/aftNb_start.pdb. Best match rsd_type:  pdb_AFT\n",
            "core.conformation.Conformation: [ WARNING ] missing heavyatom:  OXT on residue VAL:CtermProteinFull 238\n",
            "core.scoring.etable: Starting energy table calculation\n",
            "core.scoring.etable: smooth_etable: changing atr/rep split to bottom of energy well\n",
            "core.scoring.etable: smooth_etable: spline smoothing lj etables (maxdis = 6)\n",
            "core.scoring.etable: smooth_etable: spline smoothing solvation etables (max_dis = 6)\n",
            "core.scoring.etable: Finished calculating energy tables.\n",
            "basic.io.database: Database file opened: scoring/score_functions/hbonds/ref2015_params/HBPoly1D.csv\n",
            "basic.io.database: Database file opened: scoring/score_functions/hbonds/ref2015_params/HBFadeIntervals.csv\n",
            "basic.io.database: Database file opened: scoring/score_functions/hbonds/ref2015_params/HBEval.csv\n",
            "basic.io.database: Database file opened: scoring/score_functions/hbonds/ref2015_params/DonStrength.csv\n",
            "basic.io.database: Database file opened: scoring/score_functions/hbonds/ref2015_params/AccStrength.csv\n",
            "basic.io.database: Database file opened: scoring/score_functions/rama/fd/all.ramaProb\n",
            "basic.io.database: Database file opened: scoring/score_functions/rama/fd/prepro.ramaProb\n",
            "basic.io.database: Database file opened: scoring/score_functions/omega/omega_ppdep.all.txt\n",
            "basic.io.database: Database file opened: scoring/score_functions/omega/omega_ppdep.gly.txt\n",
            "basic.io.database: Database file opened: scoring/score_functions/omega/omega_ppdep.pro.txt\n",
            "basic.io.database: Database file opened: scoring/score_functions/omega/omega_ppdep.valile.txt\n",
            "basic.io.database: Database file opened: scoring/score_functions/P_AA_pp/P_AA\n",
            "basic.io.database: Database file opened: scoring/score_functions/P_AA_pp/P_AA_n\n",
            "core.scoring.P_AA: shapovalov_lib::shap_p_aa_pp_smooth_level of 1( aka low_smooth ) got activated.\n",
            "basic.io.database: Database file opened: scoring/score_functions/P_AA_pp/shapovalov/10deg/kappa131/a20.prop\n"
          ]
        }
      ]
    },
    {
      "cell_type": "code",
      "source": [
        "# Obtener el número de cadenas en la pose\n",
        "num_chains = pose.num_chains()\n",
        "print(f\"Number of chains in the pose: {num_chains}\")\n",
        "\n",
        "# Imprimir los identificadores de las cadenas\n",
        "for i in range(1, num_chains + 1):\n",
        "    chain_id = pose.pdb_info().chain(i)\n",
        "    print(f\"Chain {i} ID: {chain_id}\")\n",
        "\n",
        "# O bien, dividir la pose por cadenas y verificar cada una\n",
        "split_poses = pose.split_by_chain()\n",
        "for chain_num, chain_pose in enumerate(split_poses, start=1):\n",
        "    chain_id = chain_pose.pdb_info().chain(1)\n",
        "    print(f\"Chain {chain_num} ID: {chain_id}\")"
      ],
      "metadata": {
        "colab": {
          "base_uri": "https://localhost:8080/"
        },
        "id": "IT5cy7ROSyWj",
        "outputId": "40bf4183-37f6-47eb-8c5f-2812e80ca707"
      },
      "execution_count": 22,
      "outputs": [
        {
          "output_type": "stream",
          "name": "stdout",
          "text": [
            "Number of chains in the pose: 3\n",
            "Chain 1 ID: A\n",
            "Chain 2 ID: A\n",
            "Chain 3 ID: A\n",
            "core.kinematics.FoldTree: delete_jump_seqpos: deleting jump 1\n",
            "core.kinematics.FoldTree: delete_jump_seqpos: renumbering jump 2 to 1\n",
            "core.kinematics.FoldTree: delete_jump_seqpos: deleting jump 1\n",
            "core.kinematics.FoldTree: delete_jump_seqpos: renumbering jump 2 to 1\n",
            "core.kinematics.FoldTree: delete_jump_seqpos: deleting jump 1\n",
            "core.kinematics.FoldTree: delete_jump_seqpos: renumbering jump 2 to 1\n",
            "Chain 1 ID: A\n",
            "Chain 2 ID: A\n",
            "Chain 3 ID: B\n"
          ]
        }
      ]
    },
    {
      "cell_type": "markdown",
      "source": [
        "Ligand docking using ```XmlObjects``:"
      ],
      "metadata": {
        "id": "0pP2oW1tLiyt"
      }
    },
    {
      "cell_type": "code",
      "source": [
        "xml = pyrosetta.rosetta.protocols.rosetta_scripts.XmlObjects.create_from_string(\"\"\"\n",
        "<ROSETTASCRIPTS>\n",
        "\n",
        "    <SCOREFXNS>\n",
        "        <ScoreFunction name=\"ligand_soft_rep\" weights=\"ligand_soft_rep\"/>\n",
        "        <ScoreFunction name=\"hard_rep\" weights=\"ligand\"/>\n",
        "        <ScoreFunction name=\"fa_standard\" weights=\"ref2015.wts\"/>\n",
        "    </SCOREFXNS>\n",
        "\n",
        "    <LIGAND_AREAS>\n",
        "        <LigandArea name=\"inhibitor_dock_sc_A\" chain=\"A\" cutoff=\"6.0\" add_nbr_radius=\"true\" all_atom_mode=\"false\"/>\n",
        "        <LigandArea name=\"inhibitor_final_sc_A\" chain=\"A\" cutoff=\"6.0\" add_nbr_radius=\"true\" all_atom_mode=\"false\"/>\n",
        "        <LigandArea name=\"inhibitor_final_bb_A\" chain=\"A\" cutoff=\"7.0\" add_nbr_radius=\"false\" all_atom_mode=\"true\" Calpha_restraints=\"0.3\"/>\n",
        "\n",
        "        <LigandArea name=\"inhibitor_dock_sc_B\" chain=\"B\" cutoff=\"6.0\" add_nbr_radius=\"true\" all_atom_mode=\"false\"/>\n",
        "        <LigandArea name=\"inhibitor_final_sc_B\" chain=\"B\" cutoff=\"6.0\" add_nbr_radius=\"true\" all_atom_mode=\"false\"/>\n",
        "        <LigandArea name=\"inhibitor_final_bb_B\" chain=\"B\" cutoff=\"7.0\" add_nbr_radius=\"false\" all_atom_mode=\"true\" Calpha_restraints=\"0.3\"/>\n",
        "    </LIGAND_AREAS>\n",
        "\n",
        "    <INTERFACE_BUILDERS>\n",
        "        <InterfaceBuilder name=\"side_chain_for_docking_A\" ligand_areas=\"inhibitor_dock_sc_A\"/>\n",
        "        <InterfaceBuilder name=\"side_chain_for_final_A\" ligand_areas=\"inhibitor_final_sc_A\"/>\n",
        "        <InterfaceBuilder name=\"backbone_A\" ligand_areas=\"inhibitor_final_bb_A\" extension_window=\"3\"/>\n",
        "\n",
        "        <InterfaceBuilder name=\"side_chain_for_docking_B\" ligand_areas=\"inhibitor_dock_sc_B\"/>\n",
        "        <InterfaceBuilder name=\"side_chain_for_final_B\" ligand_areas=\"inhibitor_final_sc_B\"/>\n",
        "        <InterfaceBuilder name=\"backbone_B\" ligand_areas=\"inhibitor_final_bb_B\" extension_window=\"3\"/>\n",
        "    </INTERFACE_BUILDERS>\n",
        "\n",
        "    <MOVEMAP_BUILDERS>\n",
        "        <MoveMapBuilder name=\"docking_A\" sc_interface=\"side_chain_for_docking_A\" minimize_water=\"false\"/>\n",
        "        <MoveMapBuilder name=\"final_A\" sc_interface=\"side_chain_for_final_A\" bb_interface=\"backbone_A\" minimize_water=\"false\"/>\n",
        "\n",
        "        <MoveMapBuilder name=\"docking_B\" sc_interface=\"side_chain_for_docking_B\" minimize_water=\"false\"/>\n",
        "        <MoveMapBuilder name=\"final_B\" sc_interface=\"side_chain_for_final_B\" bb_interface=\"backbone_B\" minimize_water=\"false\"/>\n",
        "    </MOVEMAP_BUILDERS>\n",
        "\n",
        "    <SCORINGGRIDS width=\"15\">\n",
        "        <ClassicGrid grid_name=\"classic_A\" weight=\"1.0\"/>\n",
        "        <ClassicGrid grid_name=\"classic_B\" weight=\"1.0\"/>\n",
        "    </SCORINGGRIDS>\n",
        "\n",
        "    <MOVERS>\n",
        "        <Transform name=\"transform_A\" chain=\"A\" box_size=\"7.0\" move_distance=\"0.2\" angle=\"20\" cycles=\"30\" repeats=\"1\" temperature=\"5\"/>\n",
        "        <Transform name=\"transform_B\" chain=\"B\" box_size=\"7.0\" move_distance=\"0.2\" angle=\"20\" cycles=\"30\" repeats=\"1\" temperature=\"5\"/>\n",
        "        <HighResDocker name=\"high_res_docker_A\" cycles=\"6\" repack_every_Nth=\"3\" scorefxn=\"ligand_soft_rep\" movemap_builder=\"docking_A\"/>\n",
        "        <HighResDocker name=\"high_res_docker_B\" cycles=\"6\" repack_every_Nth=\"3\" scorefxn=\"ligand_soft_rep\" movemap_builder=\"docking_B\"/>\n",
        "        <FinalMinimizer name=\"final_A\" scorefxn=\"hard_rep\" movemap_builder=\"final_A\"/>\n",
        "        <FinalMinimizer name=\"final_B\" scorefxn=\"hard_rep\" movemap_builder=\"final_B\"/>\n",
        "        <InterfaceScoreCalculator name=\"add_scores_A\" chains=\"A\" scorefxn=\"hard_rep\" native='/content/drive/MyDrive/nb_caffeine_mod_for_AFL/Inputs/aftNb_start.pdb'/>\n",
        "        <InterfaceScoreCalculator name=\"add_scores_B\" chains=\"B\" scorefxn=\"hard_rep\" native='/content/drive/MyDrive/nb_caffeine_mod_for_AFL/Inputs/aftNb_start.pdb'/>\n",
        "    </MOVERS>\n",
        "\n",
        "    <PROTOCOLS>\n",
        "        <Add mover_name=\"transform_A\"/>\n",
        "        <Add mover_name=\"transform_B\"/>\n",
        "        <Add mover_name=\"high_res_docker_A\"/>\n",
        "        <Add mover_name=\"high_res_docker_B\"/>\n",
        "        <Add mover_name=\"final_A\"/>\n",
        "        <Add mover_name=\"final_B\"/>\n",
        "        <Add mover_name=\"add_scores_A\"/>\n",
        "        <Add mover_name=\"add_scores_B\"/>\n",
        "    </PROTOCOLS>\n",
        "\n",
        "</ROSETTASCRIPTS>\n",
        "\"\"\").get_mover(\"ParsedProtocol\")"
      ],
      "metadata": {
        "colab": {
          "base_uri": "https://localhost:8080/"
        },
        "id": "ybXyTonhLp5M",
        "outputId": "cda06d3e-346c-44dd-e182-126294358dbe"
      },
      "execution_count": 19,
      "outputs": [
        {
          "output_type": "stream",
          "name": "stdout",
          "text": [
            "protocols.rosetta_scripts.RosettaScriptsParser: Validating input script...\n",
            "protocols.rosetta_scripts.RosettaScriptsParser: ...done\n",
            "protocols.rosetta_scripts.RosettaScriptsParser: Parsed script:\n",
            "<ROSETTASCRIPTS>\n",
            "\t<SCOREFXNS>\n",
            "\t\t<ScoreFunction name=\"ligand_soft_rep\" weights=\"ligand_soft_rep\"/>\n",
            "\t\t<ScoreFunction name=\"hard_rep\" weights=\"ligand\"/>\n",
            "\t\t<ScoreFunction name=\"fa_standard\" weights=\"ref2015.wts\"/>\n",
            "\t</SCOREFXNS>\n",
            "\t<LIGAND_AREAS>\n",
            "\t\t<LigandArea add_nbr_radius=\"true\" all_atom_mode=\"false\" chain=\"A\" cutoff=\"6.0\" name=\"inhibitor_dock_sc_A\"/>\n",
            "\t\t<LigandArea add_nbr_radius=\"true\" all_atom_mode=\"false\" chain=\"A\" cutoff=\"6.0\" name=\"inhibitor_final_sc_A\"/>\n",
            "\t\t<LigandArea Calpha_restraints=\"0.3\" add_nbr_radius=\"false\" all_atom_mode=\"true\" chain=\"A\" cutoff=\"7.0\" name=\"inhibitor_final_bb_A\"/>\n",
            "\t\t<LigandArea add_nbr_radius=\"true\" all_atom_mode=\"false\" chain=\"B\" cutoff=\"6.0\" name=\"inhibitor_dock_sc_B\"/>\n",
            "\t\t<LigandArea add_nbr_radius=\"true\" all_atom_mode=\"false\" chain=\"B\" cutoff=\"6.0\" name=\"inhibitor_final_sc_B\"/>\n",
            "\t\t<LigandArea Calpha_restraints=\"0.3\" add_nbr_radius=\"false\" all_atom_mode=\"true\" chain=\"B\" cutoff=\"7.0\" name=\"inhibitor_final_bb_B\"/>\n",
            "\t</LIGAND_AREAS>\n",
            "\t<INTERFACE_BUILDERS>\n",
            "\t\t<InterfaceBuilder ligand_areas=\"inhibitor_dock_sc_A\" name=\"side_chain_for_docking_A\"/>\n",
            "\t\t<InterfaceBuilder ligand_areas=\"inhibitor_final_sc_A\" name=\"side_chain_for_final_A\"/>\n",
            "\t\t<InterfaceBuilder extension_window=\"3\" ligand_areas=\"inhibitor_final_bb_A\" name=\"backbone_A\"/>\n",
            "\t\t<InterfaceBuilder ligand_areas=\"inhibitor_dock_sc_B\" name=\"side_chain_for_docking_B\"/>\n",
            "\t\t<InterfaceBuilder ligand_areas=\"inhibitor_final_sc_B\" name=\"side_chain_for_final_B\"/>\n",
            "\t\t<InterfaceBuilder extension_window=\"3\" ligand_areas=\"inhibitor_final_bb_B\" name=\"backbone_B\"/>\n",
            "\t</INTERFACE_BUILDERS>\n",
            "\t<MOVEMAP_BUILDERS>\n",
            "\t\t<MoveMapBuilder minimize_water=\"false\" name=\"docking_A\" sc_interface=\"side_chain_for_docking_A\"/>\n",
            "\t\t<MoveMapBuilder bb_interface=\"backbone_A\" minimize_water=\"false\" name=\"final_A\" sc_interface=\"side_chain_for_final_A\"/>\n",
            "\t\t<MoveMapBuilder minimize_water=\"false\" name=\"docking_B\" sc_interface=\"side_chain_for_docking_B\"/>\n",
            "\t\t<MoveMapBuilder bb_interface=\"backbone_B\" minimize_water=\"false\" name=\"final_B\" sc_interface=\"side_chain_for_final_B\"/>\n",
            "\t</MOVEMAP_BUILDERS>\n",
            "\t<SCORINGGRIDS width=\"15\">\n",
            "\t\t<ClassicGrid grid_name=\"classic_A\" weight=\"1.0\"/>\n",
            "\t\t<ClassicGrid grid_name=\"classic_B\" weight=\"1.0\"/>\n",
            "\t</SCORINGGRIDS>\n",
            "\t<MOVERS>\n",
            "\t\t<Transform angle=\"20\" box_size=\"7.0\" chain=\"A\" cycles=\"30\" move_distance=\"0.2\" name=\"transform_A\" repeats=\"1\" temperature=\"5\"/>\n",
            "\t\t<Transform angle=\"20\" box_size=\"7.0\" chain=\"B\" cycles=\"30\" move_distance=\"0.2\" name=\"transform_B\" repeats=\"1\" temperature=\"5\"/>\n",
            "\t\t<HighResDocker cycles=\"6\" movemap_builder=\"docking_A\" name=\"high_res_docker_A\" repack_every_Nth=\"3\" scorefxn=\"ligand_soft_rep\"/>\n",
            "\t\t<HighResDocker cycles=\"6\" movemap_builder=\"docking_B\" name=\"high_res_docker_B\" repack_every_Nth=\"3\" scorefxn=\"ligand_soft_rep\"/>\n",
            "\t\t<FinalMinimizer movemap_builder=\"final_A\" name=\"final_A\" scorefxn=\"hard_rep\"/>\n",
            "\t\t<FinalMinimizer movemap_builder=\"final_B\" name=\"final_B\" scorefxn=\"hard_rep\"/>\n",
            "\t\t<InterfaceScoreCalculator chains=\"A\" name=\"add_scores_A\" native=\"/content/drive/MyDrive/nb_caffeine_mod_for_AFL/Inputs/aftNb_start.pdb\" scorefxn=\"hard_rep\"/>\n",
            "\t\t<InterfaceScoreCalculator chains=\"B\" name=\"add_scores_B\" native=\"/content/drive/MyDrive/nb_caffeine_mod_for_AFL/Inputs/aftNb_start.pdb\" scorefxn=\"hard_rep\"/>\n",
            "\t</MOVERS>\n",
            "\t<PROTOCOLS>\n",
            "\t\t<Add mover_name=\"transform_A\"/>\n",
            "\t\t<Add mover_name=\"transform_B\"/>\n",
            "\t\t<Add mover_name=\"high_res_docker_A\"/>\n",
            "\t\t<Add mover_name=\"high_res_docker_B\"/>\n",
            "\t\t<Add mover_name=\"final_A\"/>\n",
            "\t\t<Add mover_name=\"final_B\"/>\n",
            "\t\t<Add mover_name=\"add_scores_A\"/>\n",
            "\t\t<Add mover_name=\"add_scores_B\"/>\n",
            "\t</PROTOCOLS>\n",
            "</ROSETTASCRIPTS>\n",
            "core.scoring.ScoreFunctionFactory: SCOREFUNCTION: ref2015\n",
            "protocols.jd2.parser.ScoreFunctionLoader: defined score function \"ligand_soft_rep\" with weights \"ligand_soft_rep\"\n",
            "protocols.jd2.parser.ScoreFunctionLoader: defined score function \"hard_rep\" with weights \"ligand\"\n",
            "protocols.jd2.parser.ScoreFunctionLoader: defined score function \"fa_standard\" with weights \"ref2015.wts\"\n",
            "protocols.rosetta_scripts.RosettaScriptsParser: Defined mover named \"transform_A\" of type Transform\n",
            "protocols.rosetta_scripts.RosettaScriptsParser: Defined mover named \"transform_B\" of type Transform\n",
            "protocols.ligand_docking.ligand_options.Protocol: Initializing options:\n",
            "protocols.ligand_docking.ligand_options.Protocol: allow_minimization_: 1\n",
            "protocols.ligand_docking.ligand_options.Protocol: allow_repacking_: 1\n",
            "protocols.ligand_docking.ligand_options.Protocol: all_residues_: 0\n",
            "protocols.rosetta_scripts.RosettaScriptsParser: Defined mover named \"high_res_docker_A\" of type HighResDocker\n",
            "protocols.ligand_docking.ligand_options.Protocol: Initializing options:\n",
            "protocols.ligand_docking.ligand_options.Protocol: allow_minimization_: 1\n",
            "protocols.ligand_docking.ligand_options.Protocol: allow_repacking_: 1\n",
            "protocols.ligand_docking.ligand_options.Protocol: all_residues_: 0\n",
            "protocols.rosetta_scripts.RosettaScriptsParser: Defined mover named \"high_res_docker_B\" of type HighResDocker\n",
            "protocols.rosetta_scripts.RosettaScriptsParser: Defined mover named \"final_A\" of type FinalMinimizer\n",
            "protocols.rosetta_scripts.RosettaScriptsParser: Defined mover named \"final_B\" of type FinalMinimizer\n",
            "core.import_pose.import_pose: File '/content/drive/MyDrive/nb_caffeine_mod_for_AFL/Inputs/aftNb_start.pdb' automatically determined to be of type PDB\n",
            "core.io.pose_from_sfr.PoseFromSFRBuilder: [ WARNING ] discarding 12 atoms at position 121 in file /content/drive/MyDrive/nb_caffeine_mod_for_AFL/Inputs/aftNb_start.pdb. Best match rsd_type:  pdb_AFT\n",
            "core.conformation.Conformation: [ WARNING ] missing heavyatom:  OXT on residue VAL:CtermProteinFull 238\n",
            "protocols.rosetta_scripts.RosettaScriptsParser: Defined mover named \"add_scores_A\" of type InterfaceScoreCalculator\n",
            "core.import_pose.import_pose: File '/content/drive/MyDrive/nb_caffeine_mod_for_AFL/Inputs/aftNb_start.pdb' automatically determined to be of type PDB\n",
            "core.io.pose_from_sfr.PoseFromSFRBuilder: [ WARNING ] discarding 12 atoms at position 121 in file /content/drive/MyDrive/nb_caffeine_mod_for_AFL/Inputs/aftNb_start.pdb. Best match rsd_type:  pdb_AFT\n",
            "core.conformation.Conformation: [ WARNING ] missing heavyatom:  OXT on residue VAL:CtermProteinFull 238\n",
            "protocols.rosetta_scripts.RosettaScriptsParser: Defined mover named \"add_scores_B\" of type InterfaceScoreCalculator\n",
            "protocols.rosetta_scripts.ParsedProtocol: ParsedProtocol mover with the following settings\n",
            "protocols.rosetta_scripts.ParsedProtocol: Added mover \"transform_A\"\n",
            "protocols.rosetta_scripts.ParsedProtocol: Added mover \"transform_B\"\n",
            "protocols.rosetta_scripts.ParsedProtocol: Added mover \"high_res_docker_A\"\n",
            "protocols.ligand_docking.ligand_options.Protocol: Initializing options:\n",
            "protocols.ligand_docking.ligand_options.Protocol: allow_minimization_: 1\n",
            "protocols.ligand_docking.ligand_options.Protocol: allow_repacking_: 1\n",
            "protocols.ligand_docking.ligand_options.Protocol: all_residues_: 0\n",
            "protocols.rosetta_scripts.ParsedProtocol: Added mover \"high_res_docker_B\"\n",
            "protocols.ligand_docking.ligand_options.Protocol: Initializing options:\n",
            "protocols.ligand_docking.ligand_options.Protocol: allow_minimization_: 1\n",
            "protocols.ligand_docking.ligand_options.Protocol: allow_repacking_: 1\n",
            "protocols.ligand_docking.ligand_options.Protocol: all_residues_: 0\n",
            "protocols.rosetta_scripts.ParsedProtocol: Added mover \"final_A\"\n",
            "protocols.rosetta_scripts.ParsedProtocol: Added mover \"final_B\"\n",
            "protocols.rosetta_scripts.ParsedProtocol: Added mover \"add_scores_A\"\n",
            "protocols.rosetta_scripts.ParsedProtocol: Added mover \"add_scores_B\"\n"
          ]
        }
      ]
    },
    {
      "cell_type": "markdown",
      "source": [
        "Produce 5 global ligand docking trajectories using PyJobDistributor:"
      ],
      "metadata": {
        "id": "DXn8neySPVNK"
      }
    },
    {
      "cell_type": "code",
      "source": [
        "if not os.getenv(\"DEBUG\"):\n",
        "    working_dir = os.getcwd()\n",
        "    output_dir = \"outputs\"\n",
        "    if not os.path.exists(output_dir):\n",
        "        os.mkdir(output_dir)\n",
        "    os.chdir(output_dir)\n",
        "\n",
        "    jd = pyrosetta.toolbox.py_jobdistributor.PyJobDistributor(pdb_name=\"test_lig_XMLObjects\",\n",
        "                                                              nstruct=5,\n",
        "                                                              scorefxn=scorefxn)\n",
        "    jd.native_pose = pose\n",
        "    df = pd.DataFrame()\n",
        "    while not jd.job_complete:\n",
        "        test_pose = pose.clone()\n",
        "        xml.apply(test_pose)\n",
        "        test_df = pd.DataFrame.from_records(dict(test_pose.scores), index=[jd.current_name])\n",
        "        df = df.append(test_df)\n",
        "        jd.output_decoy(test_pose)\n",
        "    os.chdir(working_dir)"
      ],
      "metadata": {
        "colab": {
          "base_uri": "https://localhost:8080/",
          "height": 397
        },
        "id": "ySr2WbK9PYDj",
        "outputId": "ce7be258-b215-449d-9b5f-90404f674b2f"
      },
      "execution_count": 20,
      "outputs": [
        {
          "output_type": "stream",
          "name": "stdout",
          "text": [
            "Working on decoy: test_lig_XMLObjects_0.pdb\n",
            "protocols.rosetta_scripts.ParsedProtocol: =======================BEGIN MOVER Transform - transform_A=======================\n",
            "protocols.rosetta_scripts.ParsedProtocol: [ ERROR ] Exception while processing protocol: \n",
            "\n",
            "File: /home/benchmark/rosetta/source/src/core/pose/chains_util.cc:455\n",
            "chain_id A represents more than one chain!\n"
          ]
        },
        {
          "output_type": "error",
          "ename": "RuntimeError",
          "evalue": "\n\nFile: /home/benchmark/rosetta/source/src/core/pose/chains_util.cc:455\nchain_id A represents more than one chain!",
          "traceback": [
            "\u001b[0;31m---------------------------------------------------------------------------\u001b[0m",
            "\u001b[0;31mRuntimeError\u001b[0m                              Traceback (most recent call last)",
            "\u001b[0;32m<ipython-input-20-ffc621a5402e>\u001b[0m in \u001b[0;36m<cell line: 1>\u001b[0;34m()\u001b[0m\n\u001b[1;32m     13\u001b[0m     \u001b[0;32mwhile\u001b[0m \u001b[0;32mnot\u001b[0m \u001b[0mjd\u001b[0m\u001b[0;34m.\u001b[0m\u001b[0mjob_complete\u001b[0m\u001b[0;34m:\u001b[0m\u001b[0;34m\u001b[0m\u001b[0;34m\u001b[0m\u001b[0m\n\u001b[1;32m     14\u001b[0m         \u001b[0mtest_pose\u001b[0m \u001b[0;34m=\u001b[0m \u001b[0mpose\u001b[0m\u001b[0;34m.\u001b[0m\u001b[0mclone\u001b[0m\u001b[0;34m(\u001b[0m\u001b[0;34m)\u001b[0m\u001b[0;34m\u001b[0m\u001b[0;34m\u001b[0m\u001b[0m\n\u001b[0;32m---> 15\u001b[0;31m         \u001b[0mxml\u001b[0m\u001b[0;34m.\u001b[0m\u001b[0mapply\u001b[0m\u001b[0;34m(\u001b[0m\u001b[0mtest_pose\u001b[0m\u001b[0;34m)\u001b[0m\u001b[0;34m\u001b[0m\u001b[0;34m\u001b[0m\u001b[0m\n\u001b[0m\u001b[1;32m     16\u001b[0m         \u001b[0mtest_df\u001b[0m \u001b[0;34m=\u001b[0m \u001b[0mpd\u001b[0m\u001b[0;34m.\u001b[0m\u001b[0mDataFrame\u001b[0m\u001b[0;34m.\u001b[0m\u001b[0mfrom_records\u001b[0m\u001b[0;34m(\u001b[0m\u001b[0mdict\u001b[0m\u001b[0;34m(\u001b[0m\u001b[0mtest_pose\u001b[0m\u001b[0;34m.\u001b[0m\u001b[0mscores\u001b[0m\u001b[0;34m)\u001b[0m\u001b[0;34m,\u001b[0m \u001b[0mindex\u001b[0m\u001b[0;34m=\u001b[0m\u001b[0;34m[\u001b[0m\u001b[0mjd\u001b[0m\u001b[0;34m.\u001b[0m\u001b[0mcurrent_name\u001b[0m\u001b[0;34m]\u001b[0m\u001b[0;34m)\u001b[0m\u001b[0;34m\u001b[0m\u001b[0;34m\u001b[0m\u001b[0m\n\u001b[1;32m     17\u001b[0m         \u001b[0mdf\u001b[0m \u001b[0;34m=\u001b[0m \u001b[0mdf\u001b[0m\u001b[0;34m.\u001b[0m\u001b[0mappend\u001b[0m\u001b[0;34m(\u001b[0m\u001b[0mtest_df\u001b[0m\u001b[0;34m)\u001b[0m\u001b[0;34m\u001b[0m\u001b[0;34m\u001b[0m\u001b[0m\n",
            "\u001b[0;31mRuntimeError\u001b[0m: \n\nFile: /home/benchmark/rosetta/source/src/core/pose/chains_util.cc:455\nchain_id A represents more than one chain!"
          ]
        }
      ]
    }
  ]
}